{
  "nbformat": 4,
  "nbformat_minor": 0,
  "metadata": {
    "colab": {
      "name": "h4_eigenface_김나연.ipynb",
      "provenance": [],
      "collapsed_sections": []
    },
    "kernelspec": {
      "name": "python3",
      "display_name": "Python 3"
    },
    "language_info": {
      "name": "python"
    }
  },
  "cells": [
    {
      "cell_type": "code",
      "execution_count": 1,
      "metadata": {
        "colab": {
          "base_uri": "https://localhost:8080/"
        },
        "id": "FknB8R7S44fz",
        "outputId": "f0037b5c-12c3-493c-95df-d323c1bf37ce"
      },
      "outputs": [
        {
          "output_type": "stream",
          "name": "stdout",
          "text": [
            "Drive already mounted at /content/gdrive; to attempt to forcibly remount, call drive.mount(\"/content/gdrive\", force_remount=True).\n"
          ]
        }
      ],
      "source": [
        "import os\n",
        "import json\n",
        "from google.colab import drive\n",
        "\n",
        "drive.mount('/content/gdrive')"
      ]
    },
    {
      "cell_type": "code",
      "source": [
        "import cv2 #필요한 라이브러리 \n",
        "import numpy as np\n",
        "import matplotlib.pyplot as plt\n",
        "from glob import glob\n",
        "import time\n",
        "import math\n",
        "import pandas as pd\n",
        "from tqdm.notebook import tqdm\n",
        "\n",
        "import skimage\n",
        "from skimage.morphology import skeletonize\n",
        "from skimage.morphology import convex_hull_image, erosion\n",
        "from skimage.morphology import square\n",
        "\n",
        "from sklearn.metrics import accuracy_score, precision_score, recall_score, f1_score, confusion_matrix\n",
        "from sklearn.metrics import precision_recall_curve, roc_curve, roc_auc_score"
      ],
      "metadata": {
        "id": "FBgfCTXu5BdV"
      },
      "execution_count": 4,
      "outputs": []
    },
    {
      "cell_type": "code",
      "source": [
        "'''\n",
        "/content/gdrive/MyDrive/Colab Notebooks/생체보/pca_data1/test\n",
        "/content/gdrive/MyDrive/Colab Notebooks/생체보/pca_data1/train\n",
        "Ariel_Sharon\n",
        "Colin_Powell\n",
        "Donald_Rumsfeld\n",
        "George_W_Bush\n",
        "Gerhard_Schroeder\n",
        "Hugo_Chavez\n",
        "Tony_Blair\n",
        "'''"
      ],
      "metadata": {
        "id": "7TDuBMvr5HTS",
        "colab": {
          "base_uri": "https://localhost:8080/",
          "height": 54
        },
        "outputId": "c77649f7-0171-4c5f-d0a0-3fdf70dff1c3"
      },
      "execution_count": 5,
      "outputs": [
        {
          "output_type": "execute_result",
          "data": {
            "text/plain": [
              "'\\n/content/gdrive/MyDrive/Colab Notebooks/생체보/pca_data1/test\\n/content/gdrive/MyDrive/Colab Notebooks/생체보/pca_data1/train\\nAriel_Sharon\\nColin_Powell\\nDonald_Rumsfeld\\nGeorge_W_Bush\\nGerhard_Schroeder\\nHugo_Chavez\\nTony_Blair\\n'"
            ],
            "application/vnd.google.colaboratory.intrinsic+json": {
              "type": "string"
            }
          },
          "metadata": {},
          "execution_count": 5
        }
      ]
    },
    {
      "cell_type": "markdown",
      "source": [
        "EDA"
      ],
      "metadata": {
        "id": "KSKRwvdi5Tok"
      }
    },
    {
      "cell_type": "code",
      "source": [
        "traina = pd.DataFrame({'Ariel': sorted(glob('/content/gdrive/MyDrive/Colab Notebooks/생체보/pca_data1/train/Ariel_Sharon/*'))})\n",
        "trainc = pd.DataFrame({'Colin': sorted(glob('/content/gdrive/MyDrive/Colab Notebooks/생체보/pca_data1/train/Colin_Powell/*'))})\n",
        "traind = pd.DataFrame({'Donald': sorted(glob('/content/gdrive/MyDrive/Colab Notebooks/생체보/pca_data1/train/Donald_Rumsfeld/*'))})\n",
        "trainw = pd.DataFrame({'George': sorted(glob('/content/gdrive/MyDrive/Colab Notebooks/생체보/pca_data1/train/George_W_Bush/*'))})\n",
        "trains = pd.DataFrame({'Gerhard': sorted(glob('/content/gdrive/MyDrive/Colab Notebooks/생체보/pca_data1/train/Gerhard_Schroeder/*'))})\n",
        "trainh = pd.DataFrame({'Hugo': sorted(glob('/content/gdrive/MyDrive/Colab Notebooks/생체보/pca_data1/train/Hugo_Chavez/*'))})\n",
        "traint = pd.DataFrame({'Tony': sorted(glob('/content/gdrive/MyDrive/Colab Notebooks/생체보/pca_data1/train/Tony_Blair/*'))})"
      ],
      "metadata": {
        "id": "Ly_jBXSPXX8L"
      },
      "execution_count": 6,
      "outputs": []
    },
    {
      "cell_type": "code",
      "source": [
        "traina # Ariel_Sharon를 담은 데이터 프레임 "
      ],
      "metadata": {
        "id": "WScMvDchXXv1",
        "colab": {
          "base_uri": "https://localhost:8080/",
          "height": 424
        },
        "outputId": "438fd206-1996-47c6-c47d-f55db061c855"
      },
      "execution_count": 7,
      "outputs": [
        {
          "output_type": "execute_result",
          "data": {
            "text/plain": [
              "                                                Ariel\n",
              "0   /content/gdrive/MyDrive/Colab Notebooks/생체ᄇ...\n",
              "1   /content/gdrive/MyDrive/Colab Notebooks/생체ᄇ...\n",
              "2   /content/gdrive/MyDrive/Colab Notebooks/생체ᄇ...\n",
              "3   /content/gdrive/MyDrive/Colab Notebooks/생체ᄇ...\n",
              "4   /content/gdrive/MyDrive/Colab Notebooks/생체ᄇ...\n",
              "..                                                ...\n",
              "59  /content/gdrive/MyDrive/Colab Notebooks/생체ᄇ...\n",
              "60  /content/gdrive/MyDrive/Colab Notebooks/생체ᄇ...\n",
              "61  /content/gdrive/MyDrive/Colab Notebooks/생체ᄇ...\n",
              "62  /content/gdrive/MyDrive/Colab Notebooks/생체ᄇ...\n",
              "63  /content/gdrive/MyDrive/Colab Notebooks/생체ᄇ...\n",
              "\n",
              "[64 rows x 1 columns]"
            ],
            "text/html": [
              "\n",
              "  <div id=\"df-396c0011-4810-45ad-b364-1d71a169ccf9\">\n",
              "    <div class=\"colab-df-container\">\n",
              "      <div>\n",
              "<style scoped>\n",
              "    .dataframe tbody tr th:only-of-type {\n",
              "        vertical-align: middle;\n",
              "    }\n",
              "\n",
              "    .dataframe tbody tr th {\n",
              "        vertical-align: top;\n",
              "    }\n",
              "\n",
              "    .dataframe thead th {\n",
              "        text-align: right;\n",
              "    }\n",
              "</style>\n",
              "<table border=\"1\" class=\"dataframe\">\n",
              "  <thead>\n",
              "    <tr style=\"text-align: right;\">\n",
              "      <th></th>\n",
              "      <th>Ariel</th>\n",
              "    </tr>\n",
              "  </thead>\n",
              "  <tbody>\n",
              "    <tr>\n",
              "      <th>0</th>\n",
              "      <td>/content/gdrive/MyDrive/Colab Notebooks/생체ᄇ...</td>\n",
              "    </tr>\n",
              "    <tr>\n",
              "      <th>1</th>\n",
              "      <td>/content/gdrive/MyDrive/Colab Notebooks/생체ᄇ...</td>\n",
              "    </tr>\n",
              "    <tr>\n",
              "      <th>2</th>\n",
              "      <td>/content/gdrive/MyDrive/Colab Notebooks/생체ᄇ...</td>\n",
              "    </tr>\n",
              "    <tr>\n",
              "      <th>3</th>\n",
              "      <td>/content/gdrive/MyDrive/Colab Notebooks/생체ᄇ...</td>\n",
              "    </tr>\n",
              "    <tr>\n",
              "      <th>4</th>\n",
              "      <td>/content/gdrive/MyDrive/Colab Notebooks/생체ᄇ...</td>\n",
              "    </tr>\n",
              "    <tr>\n",
              "      <th>...</th>\n",
              "      <td>...</td>\n",
              "    </tr>\n",
              "    <tr>\n",
              "      <th>59</th>\n",
              "      <td>/content/gdrive/MyDrive/Colab Notebooks/생체ᄇ...</td>\n",
              "    </tr>\n",
              "    <tr>\n",
              "      <th>60</th>\n",
              "      <td>/content/gdrive/MyDrive/Colab Notebooks/생체ᄇ...</td>\n",
              "    </tr>\n",
              "    <tr>\n",
              "      <th>61</th>\n",
              "      <td>/content/gdrive/MyDrive/Colab Notebooks/생체ᄇ...</td>\n",
              "    </tr>\n",
              "    <tr>\n",
              "      <th>62</th>\n",
              "      <td>/content/gdrive/MyDrive/Colab Notebooks/생체ᄇ...</td>\n",
              "    </tr>\n",
              "    <tr>\n",
              "      <th>63</th>\n",
              "      <td>/content/gdrive/MyDrive/Colab Notebooks/생체ᄇ...</td>\n",
              "    </tr>\n",
              "  </tbody>\n",
              "</table>\n",
              "<p>64 rows × 1 columns</p>\n",
              "</div>\n",
              "      <button class=\"colab-df-convert\" onclick=\"convertToInteractive('df-396c0011-4810-45ad-b364-1d71a169ccf9')\"\n",
              "              title=\"Convert this dataframe to an interactive table.\"\n",
              "              style=\"display:none;\">\n",
              "        \n",
              "  <svg xmlns=\"http://www.w3.org/2000/svg\" height=\"24px\"viewBox=\"0 0 24 24\"\n",
              "       width=\"24px\">\n",
              "    <path d=\"M0 0h24v24H0V0z\" fill=\"none\"/>\n",
              "    <path d=\"M18.56 5.44l.94 2.06.94-2.06 2.06-.94-2.06-.94-.94-2.06-.94 2.06-2.06.94zm-11 1L8.5 8.5l.94-2.06 2.06-.94-2.06-.94L8.5 2.5l-.94 2.06-2.06.94zm10 10l.94 2.06.94-2.06 2.06-.94-2.06-.94-.94-2.06-.94 2.06-2.06.94z\"/><path d=\"M17.41 7.96l-1.37-1.37c-.4-.4-.92-.59-1.43-.59-.52 0-1.04.2-1.43.59L10.3 9.45l-7.72 7.72c-.78.78-.78 2.05 0 2.83L4 21.41c.39.39.9.59 1.41.59.51 0 1.02-.2 1.41-.59l7.78-7.78 2.81-2.81c.8-.78.8-2.07 0-2.86zM5.41 20L4 18.59l7.72-7.72 1.47 1.35L5.41 20z\"/>\n",
              "  </svg>\n",
              "      </button>\n",
              "      \n",
              "  <style>\n",
              "    .colab-df-container {\n",
              "      display:flex;\n",
              "      flex-wrap:wrap;\n",
              "      gap: 12px;\n",
              "    }\n",
              "\n",
              "    .colab-df-convert {\n",
              "      background-color: #E8F0FE;\n",
              "      border: none;\n",
              "      border-radius: 50%;\n",
              "      cursor: pointer;\n",
              "      display: none;\n",
              "      fill: #1967D2;\n",
              "      height: 32px;\n",
              "      padding: 0 0 0 0;\n",
              "      width: 32px;\n",
              "    }\n",
              "\n",
              "    .colab-df-convert:hover {\n",
              "      background-color: #E2EBFA;\n",
              "      box-shadow: 0px 1px 2px rgba(60, 64, 67, 0.3), 0px 1px 3px 1px rgba(60, 64, 67, 0.15);\n",
              "      fill: #174EA6;\n",
              "    }\n",
              "\n",
              "    [theme=dark] .colab-df-convert {\n",
              "      background-color: #3B4455;\n",
              "      fill: #D2E3FC;\n",
              "    }\n",
              "\n",
              "    [theme=dark] .colab-df-convert:hover {\n",
              "      background-color: #434B5C;\n",
              "      box-shadow: 0px 1px 3px 1px rgba(0, 0, 0, 0.15);\n",
              "      filter: drop-shadow(0px 1px 2px rgba(0, 0, 0, 0.3));\n",
              "      fill: #FFFFFF;\n",
              "    }\n",
              "  </style>\n",
              "\n",
              "      <script>\n",
              "        const buttonEl =\n",
              "          document.querySelector('#df-396c0011-4810-45ad-b364-1d71a169ccf9 button.colab-df-convert');\n",
              "        buttonEl.style.display =\n",
              "          google.colab.kernel.accessAllowed ? 'block' : 'none';\n",
              "\n",
              "        async function convertToInteractive(key) {\n",
              "          const element = document.querySelector('#df-396c0011-4810-45ad-b364-1d71a169ccf9');\n",
              "          const dataTable =\n",
              "            await google.colab.kernel.invokeFunction('convertToInteractive',\n",
              "                                                     [key], {});\n",
              "          if (!dataTable) return;\n",
              "\n",
              "          const docLinkHtml = 'Like what you see? Visit the ' +\n",
              "            '<a target=\"_blank\" href=https://colab.research.google.com/notebooks/data_table.ipynb>data table notebook</a>'\n",
              "            + ' to learn more about interactive tables.';\n",
              "          element.innerHTML = '';\n",
              "          dataTable['output_type'] = 'display_data';\n",
              "          await google.colab.output.renderOutput(dataTable, element);\n",
              "          const docLink = document.createElement('div');\n",
              "          docLink.innerHTML = docLinkHtml;\n",
              "          element.appendChild(docLink);\n",
              "        }\n",
              "      </script>\n",
              "    </div>\n",
              "  </div>\n",
              "  "
            ]
          },
          "metadata": {},
          "execution_count": 7
        }
      ]
    },
    {
      "cell_type": "code",
      "source": [
        "img = cv2.imread(traina['Ariel'][0], 0)\n",
        "plt.imshow(img, cmap='gray')"
      ],
      "metadata": {
        "id": "q3lF-kTNp9DU",
        "colab": {
          "base_uri": "https://localhost:8080/",
          "height": 286
        },
        "outputId": "404dc737-297f-4c6f-f421-05ec7141f9e8"
      },
      "execution_count": 8,
      "outputs": [
        {
          "output_type": "execute_result",
          "data": {
            "text/plain": [
              "<matplotlib.image.AxesImage at 0x7f80edc8d750>"
            ]
          },
          "metadata": {},
          "execution_count": 8
        },
        {
          "output_type": "display_data",
          "data": {
            "text/plain": [
              "<Figure size 432x288 with 1 Axes>"
            ],
            "image/png": "[encoded data removed]"
          },
          "metadata": {
            "needs_background": "light"
          }
        }
      ]
    },
    {
      "cell_type": "code",
      "source": [
        "img.shape"
      ],
      "metadata": {
        "colab": {
          "base_uri": "https://localhost:8080/"
        },
        "id": "v00md_YcWnKl",
        "outputId": "60998596-2ba0-45b9-eb25-d473704c8553"
      },
      "execution_count": 9,
      "outputs": [
        {
          "output_type": "execute_result",
          "data": {
            "text/plain": [
              "(50, 37)"
            ]
          },
          "metadata": {},
          "execution_count": 9
        }
      ]
    },
    {
      "cell_type": "code",
      "source": [
        "#EDA1 이미지 히스토그램 방법1\n",
        "plt.hist(img.ravel(), 256, [0,256]); \n",
        "plt.show()"
      ],
      "metadata": {
        "id": "ztvX1qxHWr0V",
        "colab": {
          "base_uri": "https://localhost:8080/",
          "height": 265
        },
        "outputId": "72720a1c-8541-4ad1-c42a-e08cfbf37782"
      },
      "execution_count": 10,
      "outputs": [
        {
          "output_type": "display_data",
          "data": {
            "text/plain": [
              "<Figure size 432x288 with 1 Axes>"
            ],
            "image/png": "[encoded data removed]"
          },
          "metadata": {
            "needs_background": "light"
          }
        }
      ]
    },
    {
      "cell_type": "code",
      "source": [
        "#방법2 \n",
        "hist = cv2.calcHist([img], [0], None, [256], [0,256])\n",
        "plt.plot(hist)\n",
        "plt.show()"
      ],
      "metadata": {
        "id": "xaaJyMiTWryI",
        "colab": {
          "base_uri": "https://localhost:8080/",
          "height": 265
        },
        "outputId": "794a457e-32f6-40a8-a7b0-5ea3bd995aea"
      },
      "execution_count": 11,
      "outputs": [
        {
          "output_type": "display_data",
          "data": {
            "text/plain": [
              "<Figure size 432x288 with 1 Axes>"
            ],
            "image/png": "[encoded data removed]"
          },
          "metadata": {
            "needs_background": "light"
          }
        }
      ]
    },
    {
      "cell_type": "code",
      "source": [
        ""
      ],
      "metadata": {
        "id": "AyG3CLxVWrtL"
      },
      "execution_count": 11,
      "outputs": []
    },
    {
      "cell_type": "markdown",
      "source": [
        "PCA - Ariel_Sharon만"
      ],
      "metadata": {
        "id": "xp8daziY7SzQ"
      }
    },
    {
      "cell_type": "code",
      "source": [
        "# Ariel PCA \n",
        "from sklearn.preprocessing import StandardScaler\n",
        "n_sample = 64\n",
        "n_row = 50\n",
        "n_col = 37\n",
        "arial= []\n",
        "\n",
        "for i in traina.index:\n",
        "  img = cv2.imread(traina['Ariel'][i], 0)\n",
        "  arial.append(img)\n",
        "\n",
        "nparial = np.array(arial) \n",
        "nparial.shape"
      ],
      "metadata": {
        "id": "XgW-ZpCOCo8m",
        "colab": {
          "base_uri": "https://localhost:8080/"
        },
        "outputId": "ecd2cd8a-1abd-49c9-98f2-b4e077435596"
      },
      "execution_count": 12,
      "outputs": [
        {
          "output_type": "execute_result",
          "data": {
            "text/plain": [
              "(64, 50, 37)"
            ]
          },
          "metadata": {},
          "execution_count": 12
        }
      ]
    },
    {
      "cell_type": "code",
      "source": [
        "arialface = nparial.reshape(n_sample, n_row * n_col)"
      ],
      "metadata": {
        "id": "VxI7Ex4COsx5"
      },
      "execution_count": 13,
      "outputs": []
    },
    {
      "cell_type": "code",
      "source": [
        "from sklearn.decomposition import PCA\n",
        "pca = PCA(n_components = 32).fit(arialface)\n",
        "x_train = pca.transform(arialface)"
      ],
      "metadata": {
        "id": "Gu-V9VoBOsvt"
      },
      "execution_count": 14,
      "outputs": []
    },
    {
      "cell_type": "code",
      "source": [
        "x_train.shape"
      ],
      "metadata": {
        "colab": {
          "base_uri": "https://localhost:8080/"
        },
        "id": "Eo_J5EuvPs85",
        "outputId": "f1960178-3934-4616-dbb6-3848489a362b"
      },
      "execution_count": 15,
      "outputs": [
        {
          "output_type": "execute_result",
          "data": {
            "text/plain": [
              "(64, 32)"
            ]
          },
          "metadata": {},
          "execution_count": 15
        }
      ]
    },
    {
      "cell_type": "code",
      "source": [
        "pca.components_.shape"
      ],
      "metadata": {
        "colab": {
          "base_uri": "https://localhost:8080/"
        },
        "id": "rLpn_rl7Ossd",
        "outputId": "d021ce7c-1771-4c89-c742-b83724b07322"
      },
      "execution_count": 16,
      "outputs": [
        {
          "output_type": "execute_result",
          "data": {
            "text/plain": [
              "(32, 1850)"
            ]
          },
          "metadata": {},
          "execution_count": 16
        }
      ]
    },
    {
      "cell_type": "code",
      "source": [
        "print(pca.explained_variance_ratio_[:5])\n",
        "print(sum(pca.explained_variance_ratio_))"
      ],
      "metadata": {
        "colab": {
          "base_uri": "https://localhost:8080/"
        },
        "id": "lRZwxEFpW-k3",
        "outputId": "7195e0d7-0dce-478c-8926-bc22a2fa23ec"
      },
      "execution_count": 17,
      "outputs": [
        {
          "output_type": "stream",
          "name": "stdout",
          "text": [
            "[0.20973238 0.16502105 0.07518768 0.06681887 0.05109878]\n",
            "0.9319494580885007\n"
          ]
        }
      ]
    },
    {
      "cell_type": "code",
      "source": [
        "pca.components_[0]"
      ],
      "metadata": {
        "colab": {
          "base_uri": "https://localhost:8080/"
        },
        "id": "vzGpq1dDXG0J",
        "outputId": "b4da78ea-9668-42ca-a620-e3829750930a"
      },
      "execution_count": 18,
      "outputs": [
        {
          "output_type": "execute_result",
          "data": {
            "text/plain": [
              "array([ 0.00872672,  0.00818369,  0.00900507, ..., -0.02112437,\n",
              "       -0.02967605, -0.03487957])"
            ]
          },
          "metadata": {},
          "execution_count": 18
        }
      ]
    },
    {
      "cell_type": "code",
      "source": [
        "fig, axes = plt.subplots(3, 8, figsize=(9, 4),\n",
        "            subplot_kw={'xticks':[], 'yticks':[]},\n",
        "            gridspec_kw=dict(hspace=0.1, wspace=0.1))\n",
        "\n",
        "for i, ax in enumerate(axes.flat):\n",
        "    ax.imshow(pca.components_[i].reshape(50, 37), cmap='gray')"
      ],
      "metadata": {
        "colab": {
          "base_uri": "https://localhost:8080/",
          "height": 252
        },
        "id": "6THHNY38QLy6",
        "outputId": "d88e35b2-a5a6-44c3-f3f2-db855fc6afcb"
      },
      "execution_count": 19,
      "outputs": [
        {
          "output_type": "display_data",
          "data": {
            "text/plain": [
              "<Figure size 648x288 with 24 Axes>"
            ],
            "image/png": "[encoded data removed]"
          },
          "metadata": {}
        }
      ]
    },
    {
      "cell_type": "code",
      "source": [
        "eigenfaces = pca.components_.reshape((32, n_row, n_col))\n",
        "loadeigen = eigenfaces[0]\n",
        "plt.imshow(loadeigen, cmap='gray')"
      ],
      "metadata": {
        "colab": {
          "base_uri": "https://localhost:8080/",
          "height": 286
        },
        "id": "0Q6cLsNBQLsa",
        "outputId": "a322ef4c-4992-4074-fed6-11a4a76c9818"
      },
      "execution_count": 20,
      "outputs": [
        {
          "output_type": "execute_result",
          "data": {
            "text/plain": [
              "<matplotlib.image.AxesImage at 0x7f80ed70c850>"
            ]
          },
          "metadata": {},
          "execution_count": 20
        },
        {
          "output_type": "display_data",
          "data": {
            "text/plain": [
              "<Figure size 432x288 with 1 Axes>"
            ],
            "image/png": "[encoded data removed]"
          },
          "metadata": {
            "needs_background": "light"
          }
        }
      ]
    },
    {
      "cell_type": "code",
      "source": [
        "# Ariel 정규화와 PCA \n",
        "n_sample = 64\n",
        "n_row = 50\n",
        "n_col = 37\n",
        "arial= []\n",
        "scaler = StandardScaler() \n",
        "\n",
        "for i in traina.index:\n",
        "  img = cv2.imread(traina['Ariel'][i], 0)\n",
        "  img_scalar = scaler.fit_transform(img)\n",
        "  arial.append(img_scalar)\n",
        "nparial = np.array(arial) #넘파이로 바꿈 \n",
        "\n",
        "arialface = nparial.reshape(n_sample, n_row * n_col)\n",
        "pca = PCA(n_components = 32).fit(arialface)\n",
        "x_train = pca.transform(arialface)\n"
      ],
      "metadata": {
        "id": "1cEzZyzV4TkR"
      },
      "execution_count": 21,
      "outputs": []
    },
    {
      "cell_type": "code",
      "source": [
        "fig, axes = plt.subplots(3, 8, figsize=(9, 4),\n",
        "            subplot_kw={'xticks':[], 'yticks':[]},\n",
        "            gridspec_kw=dict(hspace=0.1, wspace=0.1))\n",
        "\n",
        "for i, ax in enumerate(axes.flat):\n",
        "    ax.imshow(pca.components_[i].reshape(50, 37), cmap='gray')"
      ],
      "metadata": {
        "colab": {
          "base_uri": "https://localhost:8080/",
          "height": 252
        },
        "id": "CCRID8RNV4zY",
        "outputId": "4d375de2-9227-431c-a2ca-187567b0d6cd"
      },
      "execution_count": 22,
      "outputs": [
        {
          "output_type": "display_data",
          "data": {
            "text/plain": [
              "<Figure size 648x288 with 24 Axes>"
            ],
            "image/png": "[encoded data removed]"
          },
          "metadata": {}
        }
      ]
    },
    {
      "cell_type": "code",
      "source": [
        "print(pca.explained_variance_ratio_[:5])"
      ],
      "metadata": {
        "colab": {
          "base_uri": "https://localhost:8080/"
        },
        "id": "RoHqdJtvZj00",
        "outputId": "5ffe4a4f-1007-45f2-e09f-944f3a08b025"
      },
      "execution_count": 23,
      "outputs": [
        {
          "output_type": "stream",
          "name": "stdout",
          "text": [
            "[0.0862767  0.08157526 0.07420732 0.05814477 0.05222371]\n"
          ]
        }
      ]
    },
    {
      "cell_type": "code",
      "source": [
        "#여러개 n_components\n",
        "n_sample = 64\n",
        "n_row = 50\n",
        "n_col = 37\n",
        "arial= []\n",
        "scaler = StandardScaler() \n",
        "num_com = [4, 8, 16, 32, 64]\n",
        "\n",
        "for i in traina.index:\n",
        "  img = cv2.imread(traina['Ariel'][i], 0)\n",
        "  img_scalar = scaler.fit_transform(img)\n",
        "  arial.append(img_scalar)\n",
        "nparial = np.array(arial) #넘파이로 바꿈 \n",
        "\n",
        "\n",
        "for n in num_com:\n",
        "  arialface = nparial.reshape(n_sample, n_row * n_col)\n",
        "  pca = PCA(n_components = n).fit(arialface)\n",
        "  x_train = pca.transform(arialface)\n",
        "\n",
        "  fig, axes = plt.subplots(1, n, figsize=(9, 4),\n",
        "            subplot_kw={'xticks':[], 'yticks':[]},\n",
        "            gridspec_kw=dict(hspace=0.1, wspace=0.1))\n",
        "\n",
        "  for i, ax in enumerate(axes.flat):\n",
        "    ax.imshow(pca.components_[i].reshape(50, 37), cmap='gray')"
      ],
      "metadata": {
        "id": "pQrHcaADWNUy",
        "colab": {
          "base_uri": "https://localhost:8080/",
          "height": 407
        },
        "outputId": "b607c064-5094-4f81-f987-701c327be3b2"
      },
      "execution_count": 24,
      "outputs": [
        {
          "output_type": "display_data",
          "data": {
            "text/plain": [
              "<Figure size 648x288 with 4 Axes>"
            ],
            "image/png": "[encoded data removed]"
          },
          "metadata": {}
        },
        {
          "output_type": "display_data",
          "data": {
            "text/plain": [
              "<Figure size 648x288 with 8 Axes>"
            ],
            "image/png": "[encoded data removed]"
          },
          "metadata": {}
        },
        {
          "output_type": "display_data",
          "data": {
            "text/plain": [
              "<Figure size 648x288 with 16 Axes>"
            ],
            "image/png": "[encoded data removed]"
          },
          "metadata": {}
        },
        {
          "output_type": "display_data",
          "data": {
            "text/plain": [
              "<Figure size 648x288 with 32 Axes>"
            ],
            "image/png": "[encoded data removed]"
          },
          "metadata": {}
        },
        {
          "output_type": "display_data",
          "data": {
            "text/plain": [
              "<Figure size 648x288 with 64 Axes>"
            ],
            "image/png": "[encoded data removed]"
          },
          "metadata": {}
        }
      ]
    },
    {
      "cell_type": "markdown",
      "source": [
        "전체 PCA"
      ],
      "metadata": {
        "id": "8zChkrYZaS3Z"
      }
    },
    {
      "cell_type": "code",
      "source": [
        "# Ariel 정규화와 PCA \n",
        "n_sample = traina.shape[0]\n",
        "n_row = 50\n",
        "n_col = 37\n",
        "arial= []\n",
        "scaler = StandardScaler() \n",
        "\n",
        "for i in traina.index:\n",
        "  img = cv2.imread(traina['Ariel'][i], 0)\n",
        "  img_scalar = scaler.fit_transform(img)\n",
        "  arial.append(img_scalar)\n",
        "nparial = np.array(arial) #넘파이로 바꿈 \n",
        "\n",
        "arialface = nparial.reshape(n_sample, n_row * n_col)\n",
        "pca = PCA(n_components = 32).fit(arialface)\n",
        "a_train = pca.transform(arialface)"
      ],
      "metadata": {
        "id": "z_lmQZHUWNP9"
      },
      "execution_count": 25,
      "outputs": []
    },
    {
      "cell_type": "code",
      "source": [
        "pca_a = pca.components_\n",
        "pca_a"
      ],
      "metadata": {
        "colab": {
          "base_uri": "https://localhost:8080/"
        },
        "id": "lwm1aTm1AnrD",
        "outputId": "fc1faa99-1d84-4839-d522-2e1b3653f236"
      },
      "execution_count": 26,
      "outputs": [
        {
          "output_type": "execute_result",
          "data": {
            "text/plain": [
              "array([[-0.006993  , -0.01058979, -0.01417297, ..., -0.08729199,\n",
              "        -0.11879618, -0.11556815],\n",
              "       [ 0.01337266,  0.0276373 ,  0.02906644, ..., -0.12928891,\n",
              "        -0.10900469, -0.08312075],\n",
              "       [-0.00334502,  0.0039503 ,  0.01390249, ...,  0.12101168,\n",
              "         0.07227505,  0.02554304],\n",
              "       ...,\n",
              "       [ 0.00618975, -0.00696179, -0.0353434 , ...,  0.02641958,\n",
              "        -0.04708662, -0.04290996],\n",
              "       [ 0.04689913,  0.03823029,  0.00931647, ..., -0.06468163,\n",
              "         0.03586338,  0.1005905 ],\n",
              "       [-0.03311321,  0.00175772,  0.01956668, ..., -0.00700592,\n",
              "         0.02853289,  0.00291169]])"
            ]
          },
          "metadata": {},
          "execution_count": 26
        }
      ]
    },
    {
      "cell_type": "code",
      "source": [
        "#Colin 정규화와 PCA \n",
        "n_sample = trainc.shape[0]\n",
        "n_row = 50\n",
        "n_col = 37\n",
        "arial= []\n",
        "scaler = StandardScaler() \n",
        "\n",
        "for i in trainc.index:\n",
        "  img = cv2.imread(trainc['Colin'][i], 0)\n",
        "  img_scalar = scaler.fit_transform(img)\n",
        "  arial.append(img_scalar)\n",
        "nparial = np.array(arial) #넘파이로 바꿈 \n",
        "\n",
        "arialface = nparial.reshape(n_sample, n_row * n_col)\n",
        "pca = PCA(n_components = 32).fit(arialface)\n",
        "c_train = pca.transform(arialface)"
      ],
      "metadata": {
        "id": "jKnixPd5WNHi"
      },
      "execution_count": 27,
      "outputs": []
    },
    {
      "cell_type": "code",
      "source": [
        "pca_c = pca.components_\n",
        "pca_c"
      ],
      "metadata": {
        "colab": {
          "base_uri": "https://localhost:8080/"
        },
        "id": "fFiXNghlA5Cl",
        "outputId": "a9f2b15e-0354-450c-afe3-3c1c1a58592d"
      },
      "execution_count": 28,
      "outputs": [
        {
          "output_type": "execute_result",
          "data": {
            "text/plain": [
              "array([[-2.67060656e-02, -3.56212968e-02, -4.45913448e-02, ...,\n",
              "        -1.07655623e-02,  6.96105374e-03,  1.80461277e-02],\n",
              "       [ 3.69480308e-03, -6.94163254e-03, -5.05442588e-03, ...,\n",
              "        -1.56880769e-01, -1.65157268e-01, -1.46339812e-01],\n",
              "       [ 7.49481449e-03,  5.19480958e-03,  7.98869224e-03, ...,\n",
              "         7.73531456e-02,  4.46154627e-05, -4.68769293e-02],\n",
              "       ...,\n",
              "       [ 4.41032403e-03, -8.90283907e-03, -4.89369446e-03, ...,\n",
              "         2.87457136e-02,  5.04087311e-02,  7.34007423e-02],\n",
              "       [-3.41146042e-02, -3.49544684e-02,  6.52560318e-03, ...,\n",
              "        -3.85294092e-02, -7.82958197e-02, -8.30298576e-02],\n",
              "       [-5.23526440e-02, -6.74800810e-02, -6.14329930e-02, ...,\n",
              "         1.73052884e-02,  5.27503465e-02,  8.96880002e-02]])"
            ]
          },
          "metadata": {},
          "execution_count": 28
        }
      ]
    },
    {
      "cell_type": "code",
      "source": [
        "#Donald_ 정규화와 PCA \n",
        "n_sample = traind.shape[0]\n",
        "n_row = 50\n",
        "n_col = 37\n",
        "arial= []\n",
        "scaler = StandardScaler() \n",
        "\n",
        "for i in traind.index:\n",
        "  img = cv2.imread(traind['Donald'][i], 0)\n",
        "  img_scalar = scaler.fit_transform(img)\n",
        "  arial.append(img_scalar)\n",
        "nparial = np.array(arial) #넘파이로 바꿈 \n",
        "\n",
        "arialface = nparial.reshape(n_sample, n_row * n_col)\n",
        "pca = PCA(n_components = 32).fit(arialface)\n",
        "d_train = pca.transform(arialface)"
      ],
      "metadata": {
        "id": "xTkTQZEDiDZ3"
      },
      "execution_count": 29,
      "outputs": []
    },
    {
      "cell_type": "code",
      "source": [
        "pca_d = pca.components_\n",
        "pca_d"
      ],
      "metadata": {
        "colab": {
          "base_uri": "https://localhost:8080/"
        },
        "id": "yaDTCt11A8ei",
        "outputId": "5d926fed-b0bd-4aae-eaf9-d2dac9010fd5"
      },
      "execution_count": 30,
      "outputs": [
        {
          "output_type": "execute_result",
          "data": {
            "text/plain": [
              "array([[ 0.00825787,  0.00634173,  0.00348729, ...,  0.1116865 ,\n",
              "         0.07945933,  0.05677971],\n",
              "       [-0.02019667, -0.0279527 , -0.03919935, ...,  0.04263622,\n",
              "         0.0536653 ,  0.04277822],\n",
              "       [-0.02287138, -0.02022448, -0.01838613, ..., -0.07811141,\n",
              "        -0.07931524, -0.0590531 ],\n",
              "       ...,\n",
              "       [-0.01076228, -0.01537506, -0.02300374, ..., -0.01307088,\n",
              "        -0.02123122, -0.02532311],\n",
              "       [ 0.02839377,  0.0377031 ,  0.01470835, ...,  0.03563543,\n",
              "        -0.01169667, -0.05597622],\n",
              "       [ 0.02724204,  0.00201008, -0.03272114, ...,  0.01849951,\n",
              "         0.01385646,  0.00699707]])"
            ]
          },
          "metadata": {},
          "execution_count": 30
        }
      ]
    },
    {
      "cell_type": "code",
      "source": [
        "#George 정규화와 PCA \n",
        "n_sample = trainw.shape[0]\n",
        "n_row = 50\n",
        "n_col = 37\n",
        "arial= []\n",
        "scaler = StandardScaler() \n",
        "\n",
        "for i in trainw.index:\n",
        "  img = cv2.imread(trainw['George'][i], 0)\n",
        "  img_scalar = scaler.fit_transform(img)\n",
        "  arial.append(img_scalar)\n",
        "nparial = np.array(arial) #넘파이로 바꿈 \n",
        "\n",
        "arialface = nparial.reshape(n_sample, n_row * n_col)\n",
        "pca = PCA(n_components = 32).fit(arialface)\n",
        "w_train = pca.transform(arialface)"
      ],
      "metadata": {
        "id": "A4UI6ge9gST2"
      },
      "execution_count": 31,
      "outputs": []
    },
    {
      "cell_type": "code",
      "source": [
        "pca_g = pca.components_\n",
        "pca_g"
      ],
      "metadata": {
        "colab": {
          "base_uri": "https://localhost:8080/"
        },
        "id": "d0UU33sSBEJv",
        "outputId": "7b9255bb-d4ef-4c71-ea48-fb7b03d571d0"
      },
      "execution_count": 32,
      "outputs": [
        {
          "output_type": "execute_result",
          "data": {
            "text/plain": [
              "array([[ 0.01888928,  0.02872939,  0.03630204, ...,  0.07446196,\n",
              "         0.05884904,  0.04224562],\n",
              "       [-0.02117918, -0.02433968, -0.01957417, ..., -0.1265436 ,\n",
              "        -0.12218803, -0.11060476],\n",
              "       [-0.03376345, -0.03732119, -0.03956056, ...,  0.09028274,\n",
              "         0.06879979,  0.04719327],\n",
              "       ...,\n",
              "       [-0.01234473,  0.00259111,  0.02050561, ...,  0.02106948,\n",
              "        -0.00607221, -0.03614195],\n",
              "       [ 0.01613519,  0.02009801,  0.0308119 , ..., -0.04674113,\n",
              "        -0.00907772,  0.01335961],\n",
              "       [-0.00035406, -0.02696949, -0.01345247, ...,  0.05226685,\n",
              "         0.02727137, -0.04139493]])"
            ]
          },
          "metadata": {},
          "execution_count": 32
        }
      ]
    },
    {
      "cell_type": "code",
      "source": [
        "#Gerhard 정규화와 PCA \n",
        "n_sample = trains.shape[0]\n",
        "n_row = 50\n",
        "n_col = 37\n",
        "arial= []\n",
        "scaler = StandardScaler() \n",
        "\n",
        "for i in trains.index:\n",
        "  img = cv2.imread(trains['Gerhard'][i], 0)\n",
        "  img_scalar = scaler.fit_transform(img)\n",
        "  arial.append(img_scalar)\n",
        "nparial = np.array(arial) #넘파이로 바꿈 \n",
        "\n",
        "arialface = nparial.reshape(n_sample, n_row * n_col)\n",
        "pca = PCA(n_components = 32).fit(arialface)\n",
        "s_train = pca.transform(arialface)"
      ],
      "metadata": {
        "id": "nGeNvggXghMS"
      },
      "execution_count": 33,
      "outputs": []
    },
    {
      "cell_type": "code",
      "source": [
        "pca_s = pca.components_\n",
        "pca_s"
      ],
      "metadata": {
        "colab": {
          "base_uri": "https://localhost:8080/"
        },
        "id": "q9eR4XkSBJ0v",
        "outputId": "9e6673fc-e759-429f-dda6-cd69b2485b47"
      },
      "execution_count": 34,
      "outputs": [
        {
          "output_type": "execute_result",
          "data": {
            "text/plain": [
              "array([[-0.0206732 , -0.02165841, -0.02334355, ..., -0.07493453,\n",
              "        -0.07675371, -0.06482372],\n",
              "       [-0.03213387, -0.0352215 , -0.03519302, ...,  0.02563693,\n",
              "         0.00372415, -0.01079754],\n",
              "       [-0.0125381 , -0.03064629, -0.04306676, ...,  0.10420748,\n",
              "         0.08862718,  0.07708661],\n",
              "       ...,\n",
              "       [-0.01079736,  0.00342029, -0.01318855, ..., -0.00809368,\n",
              "        -0.01202522,  0.00878416],\n",
              "       [ 0.01579191,  0.0193934 , -0.0091869 , ..., -0.05694055,\n",
              "        -0.05494836, -0.00731452],\n",
              "       [ 0.04470905,  0.02491183, -0.00383962, ...,  0.05274764,\n",
              "         0.04084646, -0.05475703]])"
            ]
          },
          "metadata": {},
          "execution_count": 34
        }
      ]
    },
    {
      "cell_type": "code",
      "source": [
        "#Hugo 정규화와 PCA \n",
        "n_sample = trainh.shape[0]\n",
        "n_row = 50\n",
        "n_col = 37\n",
        "arial= []\n",
        "scaler = StandardScaler() \n",
        "\n",
        "for i in trainh.index:\n",
        "  img = cv2.imread(trainh['Hugo'][i], 0)\n",
        "  img_scalar = scaler.fit_transform(img)\n",
        "  arial.append(img_scalar)\n",
        "nparial = np.array(arial) #넘파이로 바꿈 \n",
        "\n",
        "arialface = nparial.reshape(n_sample, n_row * n_col)\n",
        "pca = PCA(n_components = 32).fit(arialface)\n",
        "h_train = pca.transform(arialface)"
      ],
      "metadata": {
        "id": "1LAnCU8ggg_d"
      },
      "execution_count": 35,
      "outputs": []
    },
    {
      "cell_type": "code",
      "source": [
        "pca_h = pca.components_\n",
        "pca_h"
      ],
      "metadata": {
        "colab": {
          "base_uri": "https://localhost:8080/"
        },
        "id": "YRr_OSj9BQZt",
        "outputId": "86c4848d-3526-48e1-9705-65af9dee276c"
      },
      "execution_count": 36,
      "outputs": [
        {
          "output_type": "execute_result",
          "data": {
            "text/plain": [
              "array([[ 0.00218561,  0.00666344,  0.02078675, ...,  0.00746085,\n",
              "         0.00385191,  0.00091487],\n",
              "       [-0.0263849 , -0.02489775, -0.0280706 , ..., -0.03534769,\n",
              "        -0.02756326, -0.01476878],\n",
              "       [-0.00653855,  0.01005872,  0.0350057 , ...,  0.03977258,\n",
              "         0.01257211,  0.00736562],\n",
              "       ...,\n",
              "       [-0.00617851, -0.00413954, -0.01616011, ...,  0.03060914,\n",
              "         0.0335418 ,  0.02264614],\n",
              "       [-0.01555249, -0.03688371, -0.0192385 , ...,  0.07027959,\n",
              "        -0.01945143, -0.03446953],\n",
              "       [ 0.02243638,  0.03619984,  0.04776437, ..., -0.04182437,\n",
              "        -0.04561811, -0.01907589]])"
            ]
          },
          "metadata": {},
          "execution_count": 36
        }
      ]
    },
    {
      "cell_type": "code",
      "source": [
        "#Tony 정규화와 PCA \n",
        "n_sample = traint.shape[0]\n",
        "n_row = 50\n",
        "n_col = 37\n",
        "arial= []\n",
        "scaler = StandardScaler() \n",
        "\n",
        "for i in traint.index:\n",
        "  img = cv2.imread(traint['Tony'][i], 0)\n",
        "  img_scalar = scaler.fit_transform(img)\n",
        "  arial.append(img_scalar)\n",
        "nparial = np.array(arial) #넘파이로 바꿈 \n",
        "\n",
        "arialface = nparial.reshape(n_sample, n_row * n_col)\n",
        "pca = PCA(n_components = 32).fit(arialface)\n",
        "t_train = pca.transform(arialface)"
      ],
      "metadata": {
        "id": "QV8J1cqjgg5b"
      },
      "execution_count": 37,
      "outputs": []
    },
    {
      "cell_type": "code",
      "source": [
        "pca_t = pca.components_\n",
        "pca_t"
      ],
      "metadata": {
        "colab": {
          "base_uri": "https://localhost:8080/"
        },
        "id": "p3FNTGyTBVOW",
        "outputId": "fd8dcdc2-def8-4164-f3bb-7e72f5c8220e"
      },
      "execution_count": 38,
      "outputs": [
        {
          "output_type": "execute_result",
          "data": {
            "text/plain": [
              "array([[-0.02904769, -0.04008914, -0.05483513, ..., -0.10435481,\n",
              "        -0.0926077 , -0.07804322],\n",
              "       [ 0.0041256 , -0.00426015, -0.00351839, ...,  0.03935148,\n",
              "        -0.00561482, -0.02649897],\n",
              "       [-0.00905751, -0.01236267, -0.00271769, ..., -0.0122302 ,\n",
              "        -0.00571568,  0.01333075],\n",
              "       ...,\n",
              "       [ 0.01546002,  0.01793303,  0.03300639, ..., -0.00729691,\n",
              "         0.02562525,  0.04029789],\n",
              "       [ 0.00570218, -0.00558596,  0.02547252, ...,  0.00872032,\n",
              "         0.0179253 ,  0.04620752],\n",
              "       [-0.0031384 ,  0.00255695,  0.04428367, ...,  0.04311877,\n",
              "         0.01563814,  0.00545711]])"
            ]
          },
          "metadata": {},
          "execution_count": 38
        }
      ]
    },
    {
      "cell_type": "code",
      "source": [
        "'''\n",
        "테스트 데이터셋, 라벨링 \n",
        "Ariel_Sharon: 1\n",
        "Colin_Powell: 2\n",
        "Donald_Rumsfeld: 3\n",
        "George_W_Bush: 4\n",
        "Gerhard_Schroede:5r\n",
        "Hugo_Chavez: 6\n",
        "Tony_Blair:7\n",
        "'''\n",
        "testa = pd.DataFrame({'path': sorted(glob('/content/gdrive/MyDrive/Colab Notebooks/생체보/pca_data1/test/Ariel_Sharon/*')), 'label': 1})\n",
        "testc = pd.DataFrame({'path': sorted(glob('/content/gdrive/MyDrive/Colab Notebooks/생체보/pca_data1/test/Colin_Powell/*')), 'label': 2})\n",
        "testd = pd.DataFrame({'path': sorted(glob('/content/gdrive/MyDrive/Colab Notebooks/생체보/pca_data1/test/Donald_Rumsfeld/*')), 'label': 3})\n",
        "testw = pd.DataFrame({'path': sorted(glob('/content/gdrive/MyDrive/Colab Notebooks/생체보/pca_data1/test/George_W_Bush/*')), 'label': 4})\n",
        "tests = pd.DataFrame({'path': sorted(glob('/content/gdrive/MyDrive/Colab Notebooks/생체보/pca_data1/test/Gerhard_Schroeder/*')), 'label': 5})\n",
        "testh = pd.DataFrame({'path': sorted(glob('/content/gdrive/MyDrive/Colab Notebooks/생체보/pca_data1/test/Hugo_Chavez/*')), 'label': 6})\n",
        "testt = pd.DataFrame({'path': sorted(glob('/content/gdrive/MyDrive/Colab Notebooks/생체보/pca_data1/test/Tony_Blair/*')), 'label': 7})"
      ],
      "metadata": {
        "id": "zUieVE9plF5O"
      },
      "execution_count": 39,
      "outputs": []
    },
    {
      "cell_type": "code",
      "source": [
        "test = pd.concat([testa, testc, testd, testw, tests, testh, testt])\n",
        "test"
      ],
      "metadata": {
        "colab": {
          "base_uri": "https://localhost:8080/",
          "height": 424
        },
        "id": "BcMzMWrdnD-9",
        "outputId": "ed49ed92-0ea5-4ac0-c162-281b77ba665c"
      },
      "execution_count": 40,
      "outputs": [
        {
          "output_type": "execute_result",
          "data": {
            "text/plain": [
              "                                                 path  label\n",
              "0   /content/gdrive/MyDrive/Colab Notebooks/생체ᄇ...      1\n",
              "1   /content/gdrive/MyDrive/Colab Notebooks/생체ᄇ...      1\n",
              "2   /content/gdrive/MyDrive/Colab Notebooks/생체ᄇ...      1\n",
              "3   /content/gdrive/MyDrive/Colab Notebooks/생체ᄇ...      1\n",
              "4   /content/gdrive/MyDrive/Colab Notebooks/생체ᄇ...      1\n",
              "..                                                ...    ...\n",
              "31  /content/gdrive/MyDrive/Colab Notebooks/생체ᄇ...      7\n",
              "32  /content/gdrive/MyDrive/Colab Notebooks/생체ᄇ...      7\n",
              "33  /content/gdrive/MyDrive/Colab Notebooks/생체ᄇ...      7\n",
              "34  /content/gdrive/MyDrive/Colab Notebooks/생체ᄇ...      7\n",
              "35  /content/gdrive/MyDrive/Colab Notebooks/생체ᄇ...      7\n",
              "\n",
              "[322 rows x 2 columns]"
            ],
            "text/html": [
              "\n",
              "  <div id=\"df-980ffa75-b40b-46d8-ad99-39c78fa10863\">\n",
              "    <div class=\"colab-df-container\">\n",
              "      <div>\n",
              "<style scoped>\n",
              "    .dataframe tbody tr th:only-of-type {\n",
              "        vertical-align: middle;\n",
              "    }\n",
              "\n",
              "    .dataframe tbody tr th {\n",
              "        vertical-align: top;\n",
              "    }\n",
              "\n",
              "    .dataframe thead th {\n",
              "        text-align: right;\n",
              "    }\n",
              "</style>\n",
              "<table border=\"1\" class=\"dataframe\">\n",
              "  <thead>\n",
              "    <tr style=\"text-align: right;\">\n",
              "      <th></th>\n",
              "      <th>path</th>\n",
              "      <th>label</th>\n",
              "    </tr>\n",
              "  </thead>\n",
              "  <tbody>\n",
              "    <tr>\n",
              "      <th>0</th>\n",
              "      <td>/content/gdrive/MyDrive/Colab Notebooks/생체ᄇ...</td>\n",
              "      <td>1</td>\n",
              "    </tr>\n",
              "    <tr>\n",
              "      <th>1</th>\n",
              "      <td>/content/gdrive/MyDrive/Colab Notebooks/생체ᄇ...</td>\n",
              "      <td>1</td>\n",
              "    </tr>\n",
              "    <tr>\n",
              "      <th>2</th>\n",
              "      <td>/content/gdrive/MyDrive/Colab Notebooks/생체ᄇ...</td>\n",
              "      <td>1</td>\n",
              "    </tr>\n",
              "    <tr>\n",
              "      <th>3</th>\n",
              "      <td>/content/gdrive/MyDrive/Colab Notebooks/생체ᄇ...</td>\n",
              "      <td>1</td>\n",
              "    </tr>\n",
              "    <tr>\n",
              "      <th>4</th>\n",
              "      <td>/content/gdrive/MyDrive/Colab Notebooks/생체ᄇ...</td>\n",
              "      <td>1</td>\n",
              "    </tr>\n",
              "    <tr>\n",
              "      <th>...</th>\n",
              "      <td>...</td>\n",
              "      <td>...</td>\n",
              "    </tr>\n",
              "    <tr>\n",
              "      <th>31</th>\n",
              "      <td>/content/gdrive/MyDrive/Colab Notebooks/생체ᄇ...</td>\n",
              "      <td>7</td>\n",
              "    </tr>\n",
              "    <tr>\n",
              "      <th>32</th>\n",
              "      <td>/content/gdrive/MyDrive/Colab Notebooks/생체ᄇ...</td>\n",
              "      <td>7</td>\n",
              "    </tr>\n",
              "    <tr>\n",
              "      <th>33</th>\n",
              "      <td>/content/gdrive/MyDrive/Colab Notebooks/생체ᄇ...</td>\n",
              "      <td>7</td>\n",
              "    </tr>\n",
              "    <tr>\n",
              "      <th>34</th>\n",
              "      <td>/content/gdrive/MyDrive/Colab Notebooks/생체ᄇ...</td>\n",
              "      <td>7</td>\n",
              "    </tr>\n",
              "    <tr>\n",
              "      <th>35</th>\n",
              "      <td>/content/gdrive/MyDrive/Colab Notebooks/생체ᄇ...</td>\n",
              "      <td>7</td>\n",
              "    </tr>\n",
              "  </tbody>\n",
              "</table>\n",
              "<p>322 rows × 2 columns</p>\n",
              "</div>\n",
              "      <button class=\"colab-df-convert\" onclick=\"convertToInteractive('df-980ffa75-b40b-46d8-ad99-39c78fa10863')\"\n",
              "              title=\"Convert this dataframe to an interactive table.\"\n",
              "              style=\"display:none;\">\n",
              "        \n",
              "  <svg xmlns=\"http://www.w3.org/2000/svg\" height=\"24px\"viewBox=\"0 0 24 24\"\n",
              "       width=\"24px\">\n",
              "    <path d=\"M0 0h24v24H0V0z\" fill=\"none\"/>\n",
              "    <path d=\"M18.56 5.44l.94 2.06.94-2.06 2.06-.94-2.06-.94-.94-2.06-.94 2.06-2.06.94zm-11 1L8.5 8.5l.94-2.06 2.06-.94-2.06-.94L8.5 2.5l-.94 2.06-2.06.94zm10 10l.94 2.06.94-2.06 2.06-.94-2.06-.94-.94-2.06-.94 2.06-2.06.94z\"/><path d=\"M17.41 7.96l-1.37-1.37c-.4-.4-.92-.59-1.43-.59-.52 0-1.04.2-1.43.59L10.3 9.45l-7.72 7.72c-.78.78-.78 2.05 0 2.83L4 21.41c.39.39.9.59 1.41.59.51 0 1.02-.2 1.41-.59l7.78-7.78 2.81-2.81c.8-.78.8-2.07 0-2.86zM5.41 20L4 18.59l7.72-7.72 1.47 1.35L5.41 20z\"/>\n",
              "  </svg>\n",
              "      </button>\n",
              "      \n",
              "  <style>\n",
              "    .colab-df-container {\n",
              "      display:flex;\n",
              "      flex-wrap:wrap;\n",
              "      gap: 12px;\n",
              "    }\n",
              "\n",
              "    .colab-df-convert {\n",
              "      background-color: #E8F0FE;\n",
              "      border: none;\n",
              "      border-radius: 50%;\n",
              "      cursor: pointer;\n",
              "      display: none;\n",
              "      fill: #1967D2;\n",
              "      height: 32px;\n",
              "      padding: 0 0 0 0;\n",
              "      width: 32px;\n",
              "    }\n",
              "\n",
              "    .colab-df-convert:hover {\n",
              "      background-color: #E2EBFA;\n",
              "      box-shadow: 0px 1px 2px rgba(60, 64, 67, 0.3), 0px 1px 3px 1px rgba(60, 64, 67, 0.15);\n",
              "      fill: #174EA6;\n",
              "    }\n",
              "\n",
              "    [theme=dark] .colab-df-convert {\n",
              "      background-color: #3B4455;\n",
              "      fill: #D2E3FC;\n",
              "    }\n",
              "\n",
              "    [theme=dark] .colab-df-convert:hover {\n",
              "      background-color: #434B5C;\n",
              "      box-shadow: 0px 1px 3px 1px rgba(0, 0, 0, 0.15);\n",
              "      filter: drop-shadow(0px 1px 2px rgba(0, 0, 0, 0.3));\n",
              "      fill: #FFFFFF;\n",
              "    }\n",
              "  </style>\n",
              "\n",
              "      <script>\n",
              "        const buttonEl =\n",
              "          document.querySelector('#df-980ffa75-b40b-46d8-ad99-39c78fa10863 button.colab-df-convert');\n",
              "        buttonEl.style.display =\n",
              "          google.colab.kernel.accessAllowed ? 'block' : 'none';\n",
              "\n",
              "        async function convertToInteractive(key) {\n",
              "          const element = document.querySelector('#df-980ffa75-b40b-46d8-ad99-39c78fa10863');\n",
              "          const dataTable =\n",
              "            await google.colab.kernel.invokeFunction('convertToInteractive',\n",
              "                                                     [key], {});\n",
              "          if (!dataTable) return;\n",
              "\n",
              "          const docLinkHtml = 'Like what you see? Visit the ' +\n",
              "            '<a target=\"_blank\" href=https://colab.research.google.com/notebooks/data_table.ipynb>data table notebook</a>'\n",
              "            + ' to learn more about interactive tables.';\n",
              "          element.innerHTML = '';\n",
              "          dataTable['output_type'] = 'display_data';\n",
              "          await google.colab.output.renderOutput(dataTable, element);\n",
              "          const docLink = document.createElement('div');\n",
              "          docLink.innerHTML = docLinkHtml;\n",
              "          element.appendChild(docLink);\n",
              "        }\n",
              "      </script>\n",
              "    </div>\n",
              "  </div>\n",
              "  "
            ]
          },
          "metadata": {},
          "execution_count": 40
        }
      ]
    },
    {
      "cell_type": "code",
      "source": [
        "n_sample = test.shape[0]\n",
        "n_row = 50\n",
        "n_col = 37\n",
        "arial= []\n",
        "scaler = StandardScaler() \n",
        "\n",
        "for i in test.index:\n",
        "  img = cv2.imread(test.iloc[i][0], 0)\n",
        "  img_scalar = scaler.fit_transform(img)\n",
        "  arial.append(img_scalar)\n",
        "nparial = np.array(arial) #넘파이로 바꿈 \n",
        "\n",
        "arialface = nparial.reshape(n_sample, n_row * n_col)\n",
        "pca = PCA(n_components = 32).fit(arialface)\n",
        "test_pca = pca.transform(arialface)"
      ],
      "metadata": {
        "id": "un2YVNS0okvN"
      },
      "execution_count": 41,
      "outputs": []
    },
    {
      "cell_type": "code",
      "source": [
        "test_pca.shape"
      ],
      "metadata": {
        "colab": {
          "base_uri": "https://localhost:8080/"
        },
        "id": "8AeWWTqR1V4C",
        "outputId": "36fb6847-f033-49cf-c647-9f93b59691b7"
      },
      "execution_count": 42,
      "outputs": [
        {
          "output_type": "execute_result",
          "data": {
            "text/plain": [
              "(322, 32)"
            ]
          },
          "metadata": {},
          "execution_count": 42
        }
      ]
    },
    {
      "cell_type": "code",
      "source": [
        "pca_test = pca.components_\n",
        "pca_test"
      ],
      "metadata": {
        "colab": {
          "base_uri": "https://localhost:8080/"
        },
        "id": "LWQqEn_fBhlD",
        "outputId": "b5a814f9-ed6e-46de-9f8f-9cdafc28b91f"
      },
      "execution_count": 43,
      "outputs": [
        {
          "output_type": "execute_result",
          "data": {
            "text/plain": [
              "array([[-0.00906595, -0.019869  , -0.02781339, ...,  0.00621024,\n",
              "        -0.01207971, -0.01885723],\n",
              "       [ 0.03397488,  0.04263846,  0.04922579, ...,  0.05670134,\n",
              "         0.03788779,  0.01283719],\n",
              "       [ 0.0032875 ,  0.00872396,  0.00050431, ...,  0.11618869,\n",
              "         0.10671092,  0.10353685],\n",
              "       ...,\n",
              "       [-0.07029185, -0.06742392, -0.04195319, ..., -0.03270833,\n",
              "         0.02565288,  0.05228678],\n",
              "       [ 0.03983099,  0.01335492, -0.02171848, ...,  0.04976092,\n",
              "         0.01670556, -0.01438174],\n",
              "       [ 0.01219741,  0.00982987, -0.0170761 , ...,  0.00676389,\n",
              "         0.00201023, -0.04282276]])"
            ]
          },
          "metadata": {},
          "execution_count": 43
        }
      ]
    },
    {
      "cell_type": "markdown",
      "source": [
        "매칭알고리즘 테스트용  "
      ],
      "metadata": {
        "id": "yfoYHLKvpLnC"
      }
    },
    {
      "cell_type": "code",
      "source": [
        "!pip uninstall opencv-python -y\n",
        "!pip install opencv-contrib-python==3.4.2.17 --force-reinstall"
      ],
      "metadata": {
        "id": "EOtwK0XX5g70",
        "colab": {
          "base_uri": "https://localhost:8080/",
          "height": 540
        },
        "outputId": "7579dfdf-b46c-419a-ee6e-b7ee1be1d691"
      },
      "execution_count": 44,
      "outputs": [
        {
          "output_type": "stream",
          "name": "stdout",
          "text": [
            "\u001b[33mWARNING: Skipping opencv-python as it is not installed.\u001b[0m\n",
            "Collecting opencv-contrib-python==3.4.2.17\n",
            "  Using cached opencv_contrib_python-3.4.2.17-cp37-cp37m-manylinux1_x86_64.whl (30.6 MB)\n",
            "Collecting numpy>=1.14.5\n",
            "  Using cached numpy-1.21.6-cp37-cp37m-manylinux_2_12_x86_64.manylinux2010_x86_64.whl (15.7 MB)\n",
            "Installing collected packages: numpy, opencv-contrib-python\n",
            "  Attempting uninstall: numpy\n",
            "    Found existing installation: numpy 1.21.6\n",
            "    Uninstalling numpy-1.21.6:\n",
            "      Successfully uninstalled numpy-1.21.6\n",
            "  Attempting uninstall: opencv-contrib-python\n",
            "    Found existing installation: opencv-contrib-python 3.4.2.17\n",
            "    Uninstalling opencv-contrib-python-3.4.2.17:\n",
            "      Successfully uninstalled opencv-contrib-python-3.4.2.17\n",
            "\u001b[31mERROR: pip's dependency resolver does not currently take into account all the packages that are installed. This behaviour is the source of the following dependency conflicts.\n",
            "tensorflow 2.8.0+zzzcolab20220506162203 requires tf-estimator-nightly==2.8.0.dev2021122109, which is not installed.\n",
            "imgaug 0.2.9 requires opencv-python, which is not installed.\n",
            "dopamine-rl 1.0.5 requires opencv-python>=3.4.1.15, which is not installed.\n",
            "albumentations 0.1.12 requires opencv-python, which is not installed.\n",
            "datascience 0.10.6 requires folium==0.2.1, but you have folium 0.8.3 which is incompatible.\n",
            "albumentations 0.1.12 requires imgaug<0.2.7,>=0.2.5, but you have imgaug 0.2.9 which is incompatible.\u001b[0m\n",
            "Successfully installed numpy-1.21.6 opencv-contrib-python-3.4.2.17\n"
          ]
        },
        {
          "output_type": "display_data",
          "data": {
            "application/vnd.colab-display-data+json": {
              "pip_warning": {
                "packages": [
                  "cv2",
                  "numpy"
                ]
              }
            }
          },
          "metadata": {}
        }
      ]
    },
    {
      "cell_type": "code",
      "source": [
        "#cv2.imshow 함수를 cv2_imshow로 변경\n",
        "from google.colab.patches import cv2_imshow\n",
        "cv2_imshow(img)"
      ],
      "metadata": {
        "colab": {
          "base_uri": "https://localhost:8080/",
          "height": 67
        },
        "id": "1KIbR0oawj-y",
        "outputId": "28b5af82-b550-42c8-fc08-30a03763a562"
      },
      "execution_count": 45,
      "outputs": [
        {
          "output_type": "display_data",
          "data": {
            "text/plain": [
              "<PIL.Image.Image image mode=L size=37x50 at 0x7F80E73CC890>"
            ],
            "image/png": "[encoded data removed]"
          },
          "metadata": {}
        }
      ]
    },
    {
      "cell_type": "code",
      "source": [
        "img1 = cv2.imread(traina['Ariel'][0], 0)\n",
        "img2 = cv2.imread(traina['Ariel'][1], 0)\n",
        "\n",
        "sift = cv2.xfeatures2d.SIFT_create()\n",
        "kp1, des1 = sift.detectAndCompute(img1, None)\n",
        "kp2, des2 = sift.detectAndCompute(img2, None)\n",
        "\n",
        "#bf = cv2.BFMatcher_create()\n",
        "#bf = cv2.BFMatcher()\n",
        "#matches = bf.knnMatch(des1, des2, k=2)\n",
        "matcher = cv2.BFMatcher(cv2.NORM_L2, crossCheck=True)\n",
        "matches = matcher.match(des1, des2)\n",
        "\n",
        "'''\n",
        "good = []\n",
        "for m, n in matches:\n",
        "    if m.distance < 0.7*n.distance:\n",
        "        good.append(m)'''\n",
        "\n",
        "img3 = cv2.drawMatches(img1, kp1, img2, kp2, matches, None, flags=cv2.DRAW_MATCHES_FLAGS_NOT_DRAW_SINGLE_POINTS)\n",
        "cv2_imshow(img3)"
      ],
      "metadata": {
        "colab": {
          "base_uri": "https://localhost:8080/",
          "height": 67
        },
        "id": "UZUNHaY357sR",
        "outputId": "e249d6a7-8459-42fa-898a-6d286666763c"
      },
      "execution_count": 46,
      "outputs": [
        {
          "output_type": "display_data",
          "data": {
            "text/plain": [
              "<PIL.Image.Image image mode=RGB size=74x50 at 0x7F80E6C5E3D0>"
            ],
            "image/png": "[encoded data removed]"
          },
          "metadata": {}
        }
      ]
    },
    {
      "cell_type": "code",
      "source": [
        "matches"
      ],
      "metadata": {
        "colab": {
          "base_uri": "https://localhost:8080/"
        },
        "id": "3s3KDhJ56p2P",
        "outputId": "9100f0c9-c47d-4d68-b7c2-b77a1b0c261a"
      },
      "execution_count": 47,
      "outputs": [
        {
          "output_type": "execute_result",
          "data": {
            "text/plain": [
              "[<DMatch 0x7f80e6c98e90>,\n",
              " <DMatch 0x7f80e6c98d90>,\n",
              " <DMatch 0x7f80e6c98d10>,\n",
              " <DMatch 0x7f80e6c98d50>,\n",
              " <DMatch 0x7f80e6c98d70>,\n",
              " <DMatch 0x7f80e6c98e70>,\n",
              " <DMatch 0x7f80e6c98df0>,\n",
              " <DMatch 0x7f80e6c98e10>,\n",
              " <DMatch 0x7f80e6c98dd0>,\n",
              " <DMatch 0x7f80e6c98e50>,\n",
              " <DMatch 0x7f80e6c98e30>,\n",
              " <DMatch 0x7f80e6c98eb0>,\n",
              " <DMatch 0x7f80e6c98ed0>,\n",
              " <DMatch 0x7f80e6c98f10>,\n",
              " <DMatch 0x7f80e6c98f30>,\n",
              " <DMatch 0x7f80e6c98f50>,\n",
              " <DMatch 0x7f80e6c98f70>,\n",
              " <DMatch 0x7f80e6c98f90>]"
            ]
          },
          "metadata": {},
          "execution_count": 47
        }
      ]
    },
    {
      "cell_type": "code",
      "source": [
        "img1 = cv2.imread(traina['Ariel'][0], 0)\n",
        "img2 = cv2.imread(traina['Ariel'][1], 0)\n",
        "\n",
        "sift = cv2.xfeatures2d.SIFT_create()\n",
        "kp1, des1 = sift.detectAndCompute(img1, None)\n",
        "kp2, des2 = sift.detectAndCompute(img2, None)\n",
        "\n",
        "FLANN_INDEX_KDTREE = 1\n",
        "index_params = dict(algorithm = FLANN_INDEX_KDTREE, trees=5)\n",
        "search_params = dict(checks=32)\n",
        "\n",
        "matcher = cv2.FlannBasedMatcher(index_params, search_params)\n",
        "\n",
        "matches = matcher.match(des1, des2)\n",
        "\n",
        "img3 = cv2.drawMatches(img1, kp1, img2, kp2, matches[:10], None, flags=cv2.DRAW_MATCHES_FLAGS_NOT_DRAW_SINGLE_POINTS)\n",
        "plt.imshow(img3, 'gray'), plt.show()"
      ],
      "metadata": {
        "colab": {
          "base_uri": "https://localhost:8080/",
          "height": 286
        },
        "id": "M7FjUGrL7vBY",
        "outputId": "4645a434-2831-42b0-bff9-703dedd25176"
      },
      "execution_count": 48,
      "outputs": [
        {
          "output_type": "display_data",
          "data": {
            "text/plain": [
              "<Figure size 432x288 with 1 Axes>"
            ],
            "image/png": "[encoded data removed]"
          },
          "metadata": {
            "needs_background": "light"
          }
        },
        {
          "output_type": "execute_result",
          "data": {
            "text/plain": [
              "(<matplotlib.image.AxesImage at 0x7f80e6c12690>, None)"
            ]
          },
          "metadata": {},
          "execution_count": 48
        }
      ]
    },
    {
      "cell_type": "code",
      "source": [
        "matches"
      ],
      "metadata": {
        "colab": {
          "base_uri": "https://localhost:8080/"
        },
        "id": "pDrsv1yi85CK",
        "outputId": "fe8f539c-0f20-43ff-8c87-3ba04c6ef3a7"
      },
      "execution_count": 49,
      "outputs": [
        {
          "output_type": "execute_result",
          "data": {
            "text/plain": [
              "[<DMatch 0x7f80e73525b0>,\n",
              " <DMatch 0x7f80e6c62290>,\n",
              " <DMatch 0x7f80e6c62350>,\n",
              " <DMatch 0x7f80e6c62050>,\n",
              " <DMatch 0x7f80e6c62150>,\n",
              " <DMatch 0x7f80e6c622b0>,\n",
              " <DMatch 0x7f80e6c62070>,\n",
              " <DMatch 0x7f80e6c621d0>,\n",
              " <DMatch 0x7f80e6c621b0>,\n",
              " <DMatch 0x7f80e6c62130>,\n",
              " <DMatch 0x7f80e6c62230>,\n",
              " <DMatch 0x7f80e6c62090>,\n",
              " <DMatch 0x7f80e6c62170>,\n",
              " <DMatch 0x7f80e6c621f0>,\n",
              " <DMatch 0x7f80e6c620d0>,\n",
              " <DMatch 0x7f80e6c62250>,\n",
              " <DMatch 0x7f80e6c62270>,\n",
              " <DMatch 0x7f80e6c622d0>,\n",
              " <DMatch 0x7f80e6c622f0>,\n",
              " <DMatch 0x7f80e6c62310>,\n",
              " <DMatch 0x7f80e6c62330>,\n",
              " <DMatch 0x7f80e6c62370>,\n",
              " <DMatch 0x7f80e6c62390>,\n",
              " <DMatch 0x7f80e6c623b0>,\n",
              " <DMatch 0x7f80e6c623d0>,\n",
              " <DMatch 0x7f80e6c623f0>,\n",
              " <DMatch 0x7f80e6c62410>,\n",
              " <DMatch 0x7f80e6c62430>]"
            ]
          },
          "metadata": {},
          "execution_count": 49
        }
      ]
    },
    {
      "cell_type": "code",
      "source": [
        "img.shape"
      ],
      "metadata": {
        "colab": {
          "base_uri": "https://localhost:8080/"
        },
        "id": "oJPYZvPN8j1A",
        "outputId": "28a1eead-ed2f-4ed5-c2e1-3283af27cf6a"
      },
      "execution_count": 50,
      "outputs": [
        {
          "output_type": "execute_result",
          "data": {
            "text/plain": [
              "(50, 37)"
            ]
          },
          "metadata": {},
          "execution_count": 50
        }
      ]
    },
    {
      "cell_type": "markdown",
      "source": [
        "매칭 - BMFMatcher"
      ],
      "metadata": {
        "id": "rfQLf2Hj5ZZv"
      }
    },
    {
      "cell_type": "code",
      "source": [
        "img = cv2.imread(test.iloc[i][0], 0)\n",
        "img"
      ],
      "metadata": {
        "colab": {
          "base_uri": "https://localhost:8080/"
        },
        "id": "D0M1OBr5FT-s",
        "outputId": "f531e676-8020-4881-f1e6-8991891ff846"
      },
      "execution_count": 51,
      "outputs": [
        {
          "output_type": "execute_result",
          "data": {
            "text/plain": [
              "array([[ 83,  88,  97, ..., 118, 133, 137],\n",
              "       [ 87,  91,  98, ..., 112, 125, 134],\n",
              "       [ 86,  90,  96, ..., 104, 112, 121],\n",
              "       ...,\n",
              "       [ 10,   9,   7, ...,  83, 120, 200],\n",
              "       [  9,   9,   7, ...,  91, 134, 199],\n",
              "       [  5,   6,   7, ..., 100, 146, 196]], dtype=uint8)"
            ]
          },
          "metadata": {},
          "execution_count": 51
        }
      ]
    },
    {
      "cell_type": "code",
      "source": [
        "np.uint8(a_train)"
      ],
      "metadata": {
        "colab": {
          "base_uri": "https://localhost:8080/"
        },
        "id": "cc3SqRg5ByiD",
        "outputId": "3e16ee1d-456c-492a-cc4e-01b0b9f568aa"
      },
      "execution_count": 52,
      "outputs": [
        {
          "output_type": "execute_result",
          "data": {
            "text/plain": [
              "array([[ 10,  12,   0, ...,   1,   7, 254],\n",
              "       [  7, 247,   0, ..., 254, 255,   5],\n",
              "       [247,   6, 249, ...,   0,   0, 254],\n",
              "       ...,\n",
              "       [248,  20, 248, ...,   0,   2, 252],\n",
              "       [  6, 253, 252, ..., 254,   2, 255],\n",
              "       [242,   2,   2, ...,   1, 254, 252]], dtype=uint8)"
            ]
          },
          "metadata": {},
          "execution_count": 52
        }
      ]
    },
    {
      "cell_type": "code",
      "source": [
        "np_pred = []\n",
        "np_true = []\n",
        "\n",
        "for i in test.index: #모든 테스트 데이터셋에 대해서 \n",
        "  label = test.iloc[i][1]\n",
        "  np_true.append(label)\n",
        "  img = cv2.imread(test.iloc[i][0], 0)  #pca를 하지 않은 테스트 이미지 \n",
        "  distance = []\n",
        "\n",
        "  sift = cv2.xfeatures2d.SIFT_create()\n",
        "  kp1, des1 = sift.detectAndCompute(img, None)\n",
        "  kp2, des2 = sift.detectAndCompute(np.uint8(a_train), None)  #a_train \n",
        "  \n",
        "  matcher = cv2.BFMatcher(cv2.NORM_L2, crossCheck=True)\n",
        "  matches = matcher.match(des1, des2)\n",
        "  matches = sorted(matches, key=lambda x: x.distance)\n",
        "  sum_distance = sum(x.distance for x in matches)\n",
        "  distance.append(sum_distance)\n",
        "\n",
        "  kp2, des2 = sift.detectAndCompute(np.uint8(c_train), None) #c_train\n",
        "  \n",
        "  matcher = cv2.BFMatcher(cv2.NORM_L2, crossCheck=True)\n",
        "  matches = matcher.match(des1, des2)\n",
        "  matches = sorted(matches, key=lambda x: x.distance)\n",
        "  sum_distance = sum(x.distance for x in matches)\n",
        "  distance.append(sum_distance)\n",
        "\n",
        "  kp2, des2 = sift.detectAndCompute(np.uint8(d_train), None) #d_train\n",
        "  \n",
        "  matcher = cv2.BFMatcher(cv2.NORM_L2, crossCheck=True)\n",
        "  matches = matcher.match(des1, des2)\n",
        "  matches = sorted(matches, key=lambda x: x.distance)\n",
        "  sum_distance = sum(x.distance for x in matches)\n",
        "  distance.append(sum_distance)\n",
        "\n",
        "  kp2, des2 = sift.detectAndCompute(np.uint8(s_train), None) #s_train \n",
        "  \n",
        "  matcher = cv2.BFMatcher(cv2.NORM_L2, crossCheck=True)\n",
        "  matches = matcher.match(des1, des2)\n",
        "  matches = sorted(matches, key=lambda x: x.distance)\n",
        "  sum_distance = sum(x.distance for x in matches)\n",
        "  distance.append(sum_distance)\n",
        "\n",
        "  kp2, des2 = sift.detectAndCompute(np.uint8(w_train), None) #w_train \n",
        "  \n",
        "  matcher = cv2.BFMatcher(cv2.NORM_L2, crossCheck=True)\n",
        "  matches = matcher.match(des1, des2)\n",
        "  matches = sorted(matches, key=lambda x: x.distance)\n",
        "  sum_distance = sum(x.distance for x in matches)\n",
        "  distance.append(sum_distance)\n",
        "\n",
        "  kp2, des2 = sift.detectAndCompute(np.uint8(h_train), None) #h_train\n",
        "  \n",
        "  matcher = cv2.BFMatcher(cv2.NORM_L2, crossCheck=True)\n",
        "  matches = matcher.match(des1, des2)\n",
        "  matches = sorted(matches, key=lambda x: x.distance)\n",
        "  sum_distance = sum(x.distance for x in matches)\n",
        "  distance.append(sum_distance)\n",
        "\n",
        "  kp2, des2 = sift.detectAndCompute(np.uint8(t_train), None) #t_train\n",
        "  \n",
        "  matcher = cv2.BFMatcher(cv2.NORM_L2, crossCheck=True)\n",
        "  matches = matcher.match(des1, des2)\n",
        "  matches = sorted(matches, key=lambda x: x.distance)\n",
        "  sum_distance = sum(x.distance for x in matches)\n",
        "  distance.append(sum_distance)\n",
        "\n",
        "  min_idx = distance.index(min(distance))\n",
        "  np_pred.append(min_idx+1)\n",
        "  "
      ],
      "metadata": {
        "id": "GSA2bWVbqdjV"
      },
      "execution_count": 53,
      "outputs": []
    },
    {
      "cell_type": "code",
      "source": [
        "np_pred"
      ],
      "metadata": {
        "id": "X8iNdBKVIrh3",
        "colab": {
          "base_uri": "https://localhost:8080/"
        },
        "outputId": "3ee3601f-45f7-4ad6-ee41-809925643200"
      },
      "execution_count": 54,
      "outputs": [
        {
          "output_type": "execute_result",
          "data": {
            "text/plain": [
              "[1,\n",
              " 7,\n",
              " 1,\n",
              " 1,\n",
              " 1,\n",
              " 7,\n",
              " 1,\n",
              " 1,\n",
              " 1,\n",
              " 1,\n",
              " 1,\n",
              " 1,\n",
              " 7,\n",
              " 1,\n",
              " 7,\n",
              " 1,\n",
              " 1,\n",
              " 1,\n",
              " 7,\n",
              " 1,\n",
              " 1,\n",
              " 1,\n",
              " 1,\n",
              " 1,\n",
              " 1,\n",
              " 7,\n",
              " 7,\n",
              " 6,\n",
              " 7,\n",
              " 1,\n",
              " 1,\n",
              " 6,\n",
              " 1,\n",
              " 1,\n",
              " 1,\n",
              " 1,\n",
              " 6,\n",
              " 7,\n",
              " 1,\n",
              " 4,\n",
              " 1,\n",
              " 1,\n",
              " 1,\n",
              " 1,\n",
              " 1,\n",
              " 1,\n",
              " 6,\n",
              " 7,\n",
              " 1,\n",
              " 6,\n",
              " 4,\n",
              " 1,\n",
              " 7,\n",
              " 1,\n",
              " 1,\n",
              " 6,\n",
              " 6,\n",
              " 4,\n",
              " 1,\n",
              " 1,\n",
              " 7,\n",
              " 1,\n",
              " 1,\n",
              " 1,\n",
              " 1,\n",
              " 1,\n",
              " 1,\n",
              " 6,\n",
              " 1,\n",
              " 1,\n",
              " 1,\n",
              " 7,\n",
              " 1,\n",
              " 1,\n",
              " 7,\n",
              " 1,\n",
              " 1,\n",
              " 1,\n",
              " 7,\n",
              " 1,\n",
              " 1,\n",
              " 1,\n",
              " 1,\n",
              " 1,\n",
              " 1,\n",
              " 7,\n",
              " 7,\n",
              " 6,\n",
              " 7,\n",
              " 1,\n",
              " 1,\n",
              " 6,\n",
              " 1,\n",
              " 1,\n",
              " 1,\n",
              " 1,\n",
              " 6,\n",
              " 7,\n",
              " 1,\n",
              " 4,\n",
              " 1,\n",
              " 7,\n",
              " 1,\n",
              " 1,\n",
              " 1,\n",
              " 7,\n",
              " 1,\n",
              " 1,\n",
              " 1,\n",
              " 1,\n",
              " 1,\n",
              " 1,\n",
              " 7,\n",
              " 7,\n",
              " 6,\n",
              " 7,\n",
              " 1,\n",
              " 1,\n",
              " 6,\n",
              " 1,\n",
              " 1,\n",
              " 1,\n",
              " 1,\n",
              " 6,\n",
              " 7,\n",
              " 1,\n",
              " 4,\n",
              " 1,\n",
              " 1,\n",
              " 1,\n",
              " 1,\n",
              " 1,\n",
              " 1,\n",
              " 6,\n",
              " 7,\n",
              " 1,\n",
              " 6,\n",
              " 4,\n",
              " 1,\n",
              " 7,\n",
              " 1,\n",
              " 1,\n",
              " 6,\n",
              " 6,\n",
              " 4,\n",
              " 1,\n",
              " 1,\n",
              " 7,\n",
              " 1,\n",
              " 1,\n",
              " 1,\n",
              " 1,\n",
              " 1,\n",
              " 1,\n",
              " 6,\n",
              " 1,\n",
              " 1,\n",
              " 1,\n",
              " 7,\n",
              " 1,\n",
              " 1,\n",
              " 1,\n",
              " 1,\n",
              " 1,\n",
              " 1,\n",
              " 1,\n",
              " 1,\n",
              " 1,\n",
              " 1,\n",
              " 6,\n",
              " 1,\n",
              " 1,\n",
              " 1,\n",
              " 7,\n",
              " 1,\n",
              " 1,\n",
              " 1,\n",
              " 1,\n",
              " 7,\n",
              " 1,\n",
              " 7,\n",
              " 7,\n",
              " 1,\n",
              " 1,\n",
              " 1,\n",
              " 1,\n",
              " 1,\n",
              " 1,\n",
              " 7,\n",
              " 7,\n",
              " 1,\n",
              " 1,\n",
              " 1,\n",
              " 1,\n",
              " 7,\n",
              " 7,\n",
              " 6,\n",
              " 6,\n",
              " 1,\n",
              " 7,\n",
              " 7,\n",
              " 1,\n",
              " 6,\n",
              " 7,\n",
              " 7,\n",
              " 1,\n",
              " 1,\n",
              " 1,\n",
              " 7,\n",
              " 6,\n",
              " 1,\n",
              " 1,\n",
              " 7,\n",
              " 7,\n",
              " 7,\n",
              " 1,\n",
              " 1,\n",
              " 1,\n",
              " 1,\n",
              " 1,\n",
              " 7,\n",
              " 1,\n",
              " 1,\n",
              " 7,\n",
              " 1,\n",
              " 1,\n",
              " 7,\n",
              " 1,\n",
              " 6,\n",
              " 1,\n",
              " 7,\n",
              " 7,\n",
              " 6,\n",
              " 1,\n",
              " 1,\n",
              " 1,\n",
              " 7,\n",
              " 1,\n",
              " 1,\n",
              " 1,\n",
              " 1,\n",
              " 7,\n",
              " 4,\n",
              " 1,\n",
              " 6,\n",
              " 1,\n",
              " 1,\n",
              " 7,\n",
              " 1,\n",
              " 1,\n",
              " 1,\n",
              " 7,\n",
              " 1,\n",
              " 1,\n",
              " 1,\n",
              " 1,\n",
              " 1,\n",
              " 1,\n",
              " 7,\n",
              " 7,\n",
              " 6,\n",
              " 7,\n",
              " 1,\n",
              " 1,\n",
              " 6,\n",
              " 1,\n",
              " 1,\n",
              " 1,\n",
              " 1,\n",
              " 6,\n",
              " 7,\n",
              " 1,\n",
              " 7,\n",
              " 1,\n",
              " 1,\n",
              " 1,\n",
              " 7,\n",
              " 1,\n",
              " 1,\n",
              " 1,\n",
              " 1,\n",
              " 1,\n",
              " 1,\n",
              " 7,\n",
              " 7,\n",
              " 6,\n",
              " 1,\n",
              " 7,\n",
              " 1,\n",
              " 1,\n",
              " 1,\n",
              " 7,\n",
              " 1,\n",
              " 1,\n",
              " 1,\n",
              " 1,\n",
              " 1,\n",
              " 1,\n",
              " 7,\n",
              " 7,\n",
              " 6,\n",
              " 7,\n",
              " 1,\n",
              " 1,\n",
              " 6,\n",
              " 1,\n",
              " 1,\n",
              " 1,\n",
              " 1,\n",
              " 6,\n",
              " 7,\n",
              " 1,\n",
              " 4,\n",
              " 1,\n",
              " 1,\n",
              " 1,\n",
              " 1,\n",
              " 1,\n",
              " 1,\n",
              " 6,\n",
              " 7,\n",
              " 1]"
            ]
          },
          "metadata": {},
          "execution_count": 54
        }
      ]
    },
    {
      "cell_type": "markdown",
      "source": [
        "매칭2 - FlannBasedMatcher"
      ],
      "metadata": {
        "id": "Jc-cWDBU_Dzt"
      }
    },
    {
      "cell_type": "code",
      "source": [
        "np_pred2 = []\n",
        "np_true = []\n",
        "\n",
        "for i in test.index: #모든 테스트 데이터셋에 대해서 \n",
        "  label = test.iloc[i][1]\n",
        "  np_true.append(label)\n",
        "  img = cv2.imread(test.iloc[i][0], 0)  #pca를 하지 않은 테스트 이미지 \n",
        "  distance = []\n",
        "\n",
        "  sift = cv2.xfeatures2d.SIFT_create()\n",
        "  FLANN_INDEX_KDTREE = 1\n",
        "  index_params = dict(algorithm = FLANN_INDEX_KDTREE, trees=5)\n",
        "  search_params = dict(checks=32) \n",
        "  kp1, des1 = sift.detectAndCompute(img, None)\n",
        "  kp2, des2 = sift.detectAndCompute(np.uint8(a_train), None)  #a_train \n",
        "  \n",
        "  matcher = cv2.FlannBasedMatcher(index_params, search_params)\n",
        "  matches = matcher.match(des1, des2)\n",
        "  matches = sorted(matches, key=lambda x: x.distance)\n",
        "  sum_distance = sum(x.distance for x in matches)\n",
        "  distance.append(sum_distance)\n",
        "\n",
        "  kp2, des2 = sift.detectAndCompute(np.uint8(c_train), None) #c_train\n",
        "  matches = matcher.match(des1, des2)\n",
        "  matches = sorted(matches, key=lambda x: x.distance)\n",
        "  sum_distance = sum(x.distance for x in matches)\n",
        "  distance.append(sum_distance)\n",
        "\n",
        "  kp2, des2 = sift.detectAndCompute(np.uint8(d_train), None) #d_train\n",
        "  matches = matcher.match(des1, des2)\n",
        "  matches = sorted(matches, key=lambda x: x.distance)\n",
        "  sum_distance = sum(x.distance for x in matches)\n",
        "  distance.append(sum_distance)\n",
        "\n",
        "  kp2, des2 = sift.detectAndCompute(np.uint8(s_train), None) #s_train \n",
        "  matches = matcher.match(des1, des2)\n",
        "  matches = sorted(matches, key=lambda x: x.distance)\n",
        "  sum_distance = sum(x.distance for x in matches)\n",
        "  distance.append(sum_distance)\n",
        "\n",
        "  kp2, des2 = sift.detectAndCompute(np.uint8(w_train), None) #w_train \n",
        "  matches = matcher.match(des1, des2)\n",
        "  matches = sorted(matches, key=lambda x: x.distance)\n",
        "  sum_distance = sum(x.distance for x in matches)\n",
        "  distance.append(sum_distance)\n",
        "\n",
        "  kp2, des2 = sift.detectAndCompute(np.uint8(h_train), None) #h_train\n",
        "  matches = matcher.match(des1, des2)\n",
        "  matches = sorted(matches, key=lambda x: x.distance)\n",
        "  sum_distance = sum(x.distance for x in matches)\n",
        "  distance.append(sum_distance)\n",
        "\n",
        "  kp2, des2 = sift.detectAndCompute(np.uint8(t_train), None) #t_train\n",
        "  matches = matcher.match(des1, des2)\n",
        "  matches = sorted(matches, key=lambda x: x.distance)\n",
        "  sum_distance = sum(x.distance for x in matches)\n",
        "  distance.append(sum_distance)\n",
        "\n",
        "  min_idx = distance.index(min(distance))\n",
        "  np_pred2.append(min_idx+1)"
      ],
      "metadata": {
        "id": "dAKbnNRpPEcP"
      },
      "execution_count": 55,
      "outputs": []
    },
    {
      "cell_type": "code",
      "source": [
        "np_pred2"
      ],
      "metadata": {
        "id": "3k21QefxasIW",
        "colab": {
          "base_uri": "https://localhost:8080/"
        },
        "outputId": "303295bd-2f78-42ee-ede3-4310c65634ea"
      },
      "execution_count": 56,
      "outputs": [
        {
          "output_type": "execute_result",
          "data": {
            "text/plain": [
              "[5,\n",
              " 5,\n",
              " 5,\n",
              " 5,\n",
              " 5,\n",
              " 5,\n",
              " 5,\n",
              " 2,\n",
              " 5,\n",
              " 5,\n",
              " 5,\n",
              " 5,\n",
              " 6,\n",
              " 5,\n",
              " 5,\n",
              " 5,\n",
              " 5,\n",
              " 5,\n",
              " 5,\n",
              " 5,\n",
              " 2,\n",
              " 5,\n",
              " 5,\n",
              " 5,\n",
              " 5,\n",
              " 6,\n",
              " 5,\n",
              " 5,\n",
              " 5,\n",
              " 5,\n",
              " 5,\n",
              " 5,\n",
              " 5,\n",
              " 5,\n",
              " 5,\n",
              " 5,\n",
              " 5,\n",
              " 5,\n",
              " 5,\n",
              " 2,\n",
              " 5,\n",
              " 5,\n",
              " 5,\n",
              " 5,\n",
              " 5,\n",
              " 5,\n",
              " 5,\n",
              " 5,\n",
              " 5,\n",
              " 5,\n",
              " 5,\n",
              " 5,\n",
              " 5,\n",
              " 5,\n",
              " 5,\n",
              " 5,\n",
              " 5,\n",
              " 5,\n",
              " 5,\n",
              " 5,\n",
              " 5,\n",
              " 5,\n",
              " 5,\n",
              " 5,\n",
              " 5,\n",
              " 5,\n",
              " 5,\n",
              " 2,\n",
              " 5,\n",
              " 5,\n",
              " 5,\n",
              " 5,\n",
              " 5,\n",
              " 5,\n",
              " 5,\n",
              " 5,\n",
              " 5,\n",
              " 5,\n",
              " 5,\n",
              " 5,\n",
              " 2,\n",
              " 5,\n",
              " 5,\n",
              " 2,\n",
              " 5,\n",
              " 6,\n",
              " 5,\n",
              " 5,\n",
              " 5,\n",
              " 5,\n",
              " 5,\n",
              " 5,\n",
              " 5,\n",
              " 5,\n",
              " 5,\n",
              " 5,\n",
              " 5,\n",
              " 5,\n",
              " 2,\n",
              " 5,\n",
              " 5,\n",
              " 5,\n",
              " 5,\n",
              " 5,\n",
              " 5,\n",
              " 5,\n",
              " 5,\n",
              " 2,\n",
              " 5,\n",
              " 5,\n",
              " 2,\n",
              " 5,\n",
              " 6,\n",
              " 5,\n",
              " 5,\n",
              " 5,\n",
              " 5,\n",
              " 5,\n",
              " 5,\n",
              " 5,\n",
              " 5,\n",
              " 5,\n",
              " 5,\n",
              " 5,\n",
              " 5,\n",
              " 5,\n",
              " 5,\n",
              " 5,\n",
              " 5,\n",
              " 5,\n",
              " 5,\n",
              " 5,\n",
              " 5,\n",
              " 5,\n",
              " 5,\n",
              " 5,\n",
              " 5,\n",
              " 5,\n",
              " 5,\n",
              " 5,\n",
              " 5,\n",
              " 5,\n",
              " 5,\n",
              " 5,\n",
              " 5,\n",
              " 5,\n",
              " 5,\n",
              " 5,\n",
              " 5,\n",
              " 5,\n",
              " 5,\n",
              " 5,\n",
              " 5,\n",
              " 5,\n",
              " 2,\n",
              " 5,\n",
              " 5,\n",
              " 5,\n",
              " 5,\n",
              " 5,\n",
              " 5,\n",
              " 5,\n",
              " 5,\n",
              " 5,\n",
              " 5,\n",
              " 5,\n",
              " 2,\n",
              " 5,\n",
              " 5,\n",
              " 5,\n",
              " 5,\n",
              " 5,\n",
              " 5,\n",
              " 5,\n",
              " 5,\n",
              " 5,\n",
              " 5,\n",
              " 5,\n",
              " 5,\n",
              " 5,\n",
              " 2,\n",
              " 5,\n",
              " 5,\n",
              " 5,\n",
              " 5,\n",
              " 5,\n",
              " 5,\n",
              " 5,\n",
              " 5,\n",
              " 2,\n",
              " 5,\n",
              " 5,\n",
              " 5,\n",
              " 5,\n",
              " 5,\n",
              " 5,\n",
              " 5,\n",
              " 2,\n",
              " 5,\n",
              " 5,\n",
              " 5,\n",
              " 2,\n",
              " 5,\n",
              " 5,\n",
              " 5,\n",
              " 5,\n",
              " 5,\n",
              " 5,\n",
              " 5,\n",
              " 5,\n",
              " 5,\n",
              " 5,\n",
              " 2,\n",
              " 5,\n",
              " 5,\n",
              " 5,\n",
              " 5,\n",
              " 5,\n",
              " 2,\n",
              " 5,\n",
              " 5,\n",
              " 5,\n",
              " 5,\n",
              " 5,\n",
              " 5,\n",
              " 5,\n",
              " 5,\n",
              " 5,\n",
              " 5,\n",
              " 5,\n",
              " 5,\n",
              " 5,\n",
              " 5,\n",
              " 5,\n",
              " 5,\n",
              " 2,\n",
              " 5,\n",
              " 2,\n",
              " 5,\n",
              " 2,\n",
              " 5,\n",
              " 5,\n",
              " 5,\n",
              " 5,\n",
              " 5,\n",
              " 5,\n",
              " 5,\n",
              " 5,\n",
              " 5,\n",
              " 5,\n",
              " 5,\n",
              " 5,\n",
              " 5,\n",
              " 2,\n",
              " 5,\n",
              " 5,\n",
              " 5,\n",
              " 5,\n",
              " 6,\n",
              " 5,\n",
              " 5,\n",
              " 5,\n",
              " 5,\n",
              " 5,\n",
              " 5,\n",
              " 5,\n",
              " 5,\n",
              " 5,\n",
              " 5,\n",
              " 5,\n",
              " 5,\n",
              " 5,\n",
              " 5,\n",
              " 5,\n",
              " 5,\n",
              " 5,\n",
              " 5,\n",
              " 5,\n",
              " 2,\n",
              " 5,\n",
              " 5,\n",
              " 2,\n",
              " 5,\n",
              " 6,\n",
              " 5,\n",
              " 5,\n",
              " 5,\n",
              " 5,\n",
              " 5,\n",
              " 5,\n",
              " 5,\n",
              " 5,\n",
              " 5,\n",
              " 2,\n",
              " 5,\n",
              " 5,\n",
              " 2,\n",
              " 5,\n",
              " 6,\n",
              " 5,\n",
              " 5,\n",
              " 5,\n",
              " 5,\n",
              " 5,\n",
              " 5,\n",
              " 5,\n",
              " 5,\n",
              " 5,\n",
              " 5,\n",
              " 5,\n",
              " 5,\n",
              " 2,\n",
              " 2,\n",
              " 5,\n",
              " 5,\n",
              " 5,\n",
              " 5,\n",
              " 5,\n",
              " 5,\n",
              " 5,\n",
              " 5,\n",
              " 5]"
            ]
          },
          "metadata": {},
          "execution_count": 56
        }
      ]
    },
    {
      "cell_type": "markdown",
      "source": [
        "매트릭스 계산 "
      ],
      "metadata": {
        "id": "uejBo-tA_HeF"
      }
    },
    {
      "cell_type": "code",
      "source": [
        "from sklearn.metrics import accuracy_score, precision_score, recall_score, f1_score, confusion_matrix\n",
        "from sklearn.metrics import precision_recall_curve, roc_curve, roc_auc_score"
      ],
      "metadata": {
        "id": "NJW6Mj1rsvZy"
      },
      "execution_count": 57,
      "outputs": []
    },
    {
      "cell_type": "code",
      "source": [
        "conf_mat = confusion_matrix(np_true, np_pred)\n",
        "conf_mat"
      ],
      "metadata": {
        "colab": {
          "base_uri": "https://localhost:8080/"
        },
        "id": "mUTrZi9pE-9X",
        "outputId": "ac0bfe50-0ffa-4ce1-83fa-db74cf6d943d"
      },
      "execution_count": 58,
      "outputs": [
        {
          "output_type": "execute_result",
          "data": {
            "text/plain": [
              "array([[70,  0,  0,  0,  0, 21],\n",
              "       [97,  0,  0,  8, 28, 25],\n",
              "       [16,  0,  0,  0,  2,  9],\n",
              "       [26,  0,  0,  1,  5, 14],\n",
              "       [ 0,  0,  0,  0,  0,  0],\n",
              "       [ 0,  0,  0,  0,  0,  0]])"
            ]
          },
          "metadata": {},
          "execution_count": 58
        }
      ]
    },
    {
      "cell_type": "code",
      "source": [
        "precision = precision_score(np_true, np_pred, average='micro')\n",
        "recall = recall_score(np_true, np_pred, average='micro')\n",
        "print(precision, recall)"
      ],
      "metadata": {
        "id": "n_UQkApOs4MJ",
        "colab": {
          "base_uri": "https://localhost:8080/"
        },
        "outputId": "6f4effe9-7d4c-4e1b-feea-0f52a9402303"
      },
      "execution_count": 59,
      "outputs": [
        {
          "output_type": "stream",
          "name": "stdout",
          "text": [
            "0.2204968944099379 0.2204968944099379\n"
          ]
        }
      ]
    },
    {
      "cell_type": "code",
      "source": [
        "conf_mat.sum()"
      ],
      "metadata": {
        "colab": {
          "base_uri": "https://localhost:8080/"
        },
        "id": "OE2vKR3JLunx",
        "outputId": "4d286a73-8929-4c9e-944f-ce5065b556c2"
      },
      "execution_count": 60,
      "outputs": [
        {
          "output_type": "execute_result",
          "data": {
            "text/plain": [
              "322"
            ]
          },
          "metadata": {},
          "execution_count": 60
        }
      ]
    },
    {
      "cell_type": "code",
      "source": [
        "tp_sum = conf_mat.diagonal().sum()\n",
        "fp_sum = conf_mat.sum() - tp_sum\n",
        "fn_sum = conf_mat.sum() - tp_sum\n",
        "tn_sum = (len(conf_mat)-2) * conf_mat.sum() * tp_sum "
      ],
      "metadata": {
        "id": "QwIbsDmRs6E3"
      },
      "execution_count": 61,
      "outputs": []
    },
    {
      "cell_type": "code",
      "source": [
        "FAR = fp_sum/conf_mat.sum()\n",
        "FAR = fp_sum/(tn_sum+fp_sum)\n",
        "FRR = fn_sum / (fn_sum+tp_sum)"
      ],
      "metadata": {
        "id": "AOzT-514s6vo"
      },
      "execution_count": 62,
      "outputs": []
    },
    {
      "cell_type": "code",
      "source": [
        "print(FAR, FRR)"
      ],
      "metadata": {
        "colab": {
          "base_uri": "https://localhost:8080/"
        },
        "id": "Z_N-NcFKL1gH",
        "outputId": "57f2cc1d-9e66-412e-abe5-22f1b7ad5a9c"
      },
      "execution_count": 63,
      "outputs": [
        {
          "output_type": "stream",
          "name": "stdout",
          "text": [
            "0.0027372163273318138 0.7795031055900621\n"
          ]
        }
      ]
    },
    {
      "cell_type": "markdown",
      "source": [
        "본인얼굴 "
      ],
      "metadata": {
        "id": "fKNKGn-d9Szf"
      }
    },
    {
      "cell_type": "code",
      "source": [
        "\n",
        "plt.imshow(img, cmap='gray')"
      ],
      "metadata": {
        "id": "SF-m9M815VEC"
      },
      "execution_count": null,
      "outputs": []
    },
    {
      "cell_type": "code",
      "source": [
        "# 전처리 \n",
        "img_cut = img[:50*5, : 37*5] \n",
        "img_re = cv2.resize(img_cut, (37, 50))\n",
        "img_g = cv2.GaussianBlur(img_re, (3, 3), 0) \n",
        "clahe = cv2.createCLAHE(clipLimit=2.0, tileGridSize=(8,8))\n",
        "img_cl = clahe.apply(img_g)\n",
        "plt.imshow(img_cl, cmap='gray')"
      ],
      "metadata": {
        "id": "vKGw6psn5VBU"
      },
      "execution_count": null,
      "outputs": []
    },
    {
      "cell_type": "code",
      "source": [
        "# 전처리 interpolation=cv2.INTER_AREA\n",
        "img_cut = img[:50*5, : 37*5] \n",
        "img_re = cv2.resize(img_cut, (37, 50), interpolation=cv2.INTER_AREA)\n",
        "img_g = cv2.GaussianBlur(img_re, (3, 3), 0) \n",
        "clahe = cv2.createCLAHE(clipLimit=2.0, tileGridSize=(8,8))\n",
        "img_cl = clahe.apply(img_g)\n",
        "plt.imshow(img_cl, cmap='gray')"
      ],
      "metadata": {
        "id": "lUmsV3k0RkFS"
      },
      "execution_count": null,
      "outputs": []
    },
    {
      "cell_type": "code",
      "source": [
        "img = img_cl\n",
        "distance = []\n",
        "\n",
        "sift = cv2.xfeatures2d.SIFT_create()\n",
        "kp1, des1 = sift.detectAndCompute(img, None)\n",
        "kp2, des2 = sift.detectAndCompute(np.uint8(a_train), None)  #a_train \n",
        "matcher = cv2.BFMatcher(cv2.NORM_L2, crossCheck=True)  \n",
        "matches = matcher.match(des1, des2)\n",
        "matches = sorted(matches, key=lambda x: x.distance)\n",
        "sum_distance = sum(x.distance for x in matches)\n",
        "distance.append(sum_distance)\n",
        "\n",
        "kp2, des2 = sift.detectAndCompute(np.uint8(c_train), None) #c_train\n",
        "matches = matcher.match(des1, des2)\n",
        "matches = sorted(matches, key=lambda x: x.distance)\n",
        "sum_distance = sum(x.distance for x in matches)\n",
        "distance.append(sum_distance)\n",
        "\n",
        "kp2, des2 = sift.detectAndCompute(np.uint8(d_train), None) #d_train\n",
        "matches = matcher.match(des1, des2)\n",
        "matches = sorted(matches, key=lambda x: x.distance)\n",
        "sum_distance = sum(x.distance for x in matches)\n",
        "distance.append(sum_distance)\n",
        "\n",
        "kp2, des2 = sift.detectAndCompute(np.uint8(s_train), None) #s_train \n",
        "matches = matcher.match(des1, des2)\n",
        "matches = sorted(matches, key=lambda x: x.distance)\n",
        "sum_distance = sum(x.distance for x in matches)\n",
        "distance.append(sum_distance)\n",
        "\n",
        "kp2, des2 = sift.detectAndCompute(np.uint8(w_train), None) #w_train \n",
        "matches = matcher.match(des1, des2)\n",
        "matches = sorted(matches, key=lambda x: x.distance)\n",
        "sum_distance = sum(x.distance for x in matches)\n",
        "distance.append(sum_distance)\n",
        "\n",
        "kp2, des2 = sift.detectAndCompute(np.uint8(h_train), None) #h_train\n",
        "matches = matcher.match(des1, des2)\n",
        "matches = sorted(matches, key=lambda x: x.distance)\n",
        "sum_distance = sum(x.distance for x in matches)\n",
        "distance.append(sum_distance)\n",
        "\n",
        "kp2, des2 = sift.detectAndCompute(np.uint8(t_train), None) #t_train\n",
        "matches = matcher.match(des1, des2)\n",
        "matches = sorted(matches, key=lambda x: x.distance)\n",
        "sum_distance = sum(x.distance for x in matches)\n",
        "distance.append(sum_distance)\n",
        "\n",
        "min_idx = distance.index(min(distance)) + 1\n",
        "min_idx"
      ],
      "metadata": {
        "colab": {
          "base_uri": "https://localhost:8080/"
        },
        "id": "vuXXooHqvXhn",
        "outputId": "1b292d78-7fe2-4e2c-d022-50d04a6693a9"
      },
      "execution_count": 67,
      "outputs": [
        {
          "output_type": "execute_result",
          "data": {
            "text/plain": [
              "1"
            ]
          },
          "metadata": {},
          "execution_count": 67
        }
      ]
    },
    {
      "cell_type": "code",
      "source": [
        ""
      ],
      "metadata": {
        "id": "Egb4PWI_MqKR"
      },
      "execution_count": 67,
      "outputs": []
    }
  ]
}